{
 "cells": [
  {
   "cell_type": "code",
   "execution_count": 3,
   "metadata": {},
   "outputs": [],
   "source": [
    "import torch\n",
    "import torch.nn.functional as F\n",
    "import torchvision.datasets as datasets\n",
    "import torchvision.transforms as transforms\n",
    "from torch import nn, optim\n",
    "from torch.utils.data import DataLoader, random_split\n",
    "import pytorch_lightning as pl \n",
    "import torchmetrics\n",
    "from torchmetrics import Metric\n",
    "# from pytorch_lightning.profiler import PyTorchProfiler\n",
    "torch.set_float32_matmul_precision(\"medium\")"
   ]
  },
  {
   "cell_type": "markdown",
   "metadata": {},
   "source": [
    "some useful methods in pl.LightningModule\n",
    "* print\n",
    "* log\n",
    "* forward\n",
    "* training_step\n",
    "* training_step_end\n",
    "* training_epoch_end\n",
    "* validation_step\n",
    "* test_step\n",
    "* predict_step\n",
    "* configure_optimizers"
   ]
  },
  {
   "cell_type": "code",
   "execution_count": 4,
   "metadata": {},
   "outputs": [],
   "source": [
    "class MyAccuracy(Metric):\n",
    "    def __init__(self):\n",
    "        super().__init__()\n",
    "        self.add_state(\"correct\", default=torch.tensor(0), dist_reduce_fx=\"sum\")\n",
    "        self.add_state(\"total\", default=torch.tensor(0), dist_reduce_fx=\"sum\")\n",
    "\n",
    "    def update(self, preds: torch.Tensor, target: torch.Tensor):\n",
    "        preds = torch.argmax(preds, dim=1)\n",
    "        assert preds.shape == target.shape\n",
    "        self.correct += torch.sum(preds == target)\n",
    "        self.total += len(target)\n",
    "        \n",
    "    def compute(self):\n",
    "        return self.correct.float() / self.total    \n",
    "\n",
    "class NN(pl.LightningModule):\n",
    "    def __init__(self, input_size, num_classes):\n",
    "        super().__init__()\n",
    "        self.fc1 = nn.Linear(input_size, 50)\n",
    "        self.fc2 = nn.Linear(50, num_classes)\n",
    "        self.loss_fn = nn.CrossEntropyLoss()\n",
    "        self.accuracy = torchmetrics.Accuracy(task='multiclass', num_classes=num_classes)\n",
    "        self.f1_score = torchmetrics.F1Score(task='multiclass', num_classes=num_classes, average='macro')\n",
    "        self.my_accuracy = MyAccuracy()\n",
    "\n",
    "    def forward(self, x):\n",
    "        x = F.relu(self.fc1(x))\n",
    "        x = self.fc2(x)\n",
    "        return x\n",
    "\n",
    "    def _common_step(self, batch, batch_idx):\n",
    "        x, y = batch \n",
    "        x = x.reshape(x.size(0), -1)\n",
    "        scores = self.forward(x)\n",
    "        loss = self.loss_fn(scores, y)\n",
    "        return loss, scores, y\n",
    "\n",
    "        \n",
    "    def training_step(self, batch, batch_idx):\n",
    "        loss, scores, y = self._common_step(batch, batch_idx)\n",
    "        acc = self.accuracy(scores, y)\n",
    "        myacc = self.my_accuracy(scores, y)\n",
    "        f1_score = self.f1_score(scores, y)\n",
    "        self.log_dict({'train_loss':loss, 'train_accuracy':acc, 'train_myaccuracy':myacc, 'train_f1_score':f1_score}, \n",
    "                      on_step=False, on_epoch=True, prog_bar=True, sync_dist=True)\n",
    "        return {'loss':loss, 'scores':scores, 'y':y}\n",
    "    \n",
    "    \n",
    "    def validation_step(self, batch, batch_idx):\n",
    "        loss, scores, y = self._common_step(batch, batch_idx)\n",
    "        self.log('val_loss', loss, sync_dist=True)\n",
    "        return loss\n",
    "\n",
    "    def test_step(self, batch, batch_idx):\n",
    "        loss, scores, y = self._common_step(batch, batch_idx)\n",
    "        self.log('test_loss', loss, sync_dist=True)\n",
    "        return loss\n",
    "\n",
    "    def predict_step(self, batch, batch_idx):\n",
    "        x, y = batch \n",
    "        x = x.reshape(x.size(0), -1)\n",
    "        scores = self.forward(x)\n",
    "        preds = torch.argmax(scores, dim=1)\n",
    "        return preds\n",
    "\n",
    "    def configure_optimizers(self):\n",
    "        return optim.Adam(self.parameters(), lr=0.001)"
   ]
  },
  {
   "cell_type": "code",
   "execution_count": 5,
   "metadata": {},
   "outputs": [],
   "source": [
    "# Initialize network\n",
    "input_size = 784\n",
    "num_classes = 10\n",
    "model = NN(input_size=input_size, num_classes=num_classes)\n"
   ]
  },
  {
   "cell_type": "code",
   "execution_count": 6,
   "metadata": {},
   "outputs": [],
   "source": [
    "\n",
    "# batch_size = 64\n",
    "# # Load Data\n",
    "# entire_dataset = datasets.MNIST(\n",
    "#     root=\"/data/\", train=True, transform=transforms.ToTensor(), download=True\n",
    "# )\n",
    "# train_ds, val_ds = random_split(entire_dataset, [50000, 10000])\n",
    "# test_ds = datasets.MNIST(\n",
    "#     root=\"/data/\", train=False, transform=transforms.ToTensor(), download=True\n",
    "# )\n",
    "# train_loader = DataLoader(dataset=train_ds, batch_size=batch_size, shuffle=True)\n",
    "# val_loader = DataLoader(dataset=val_ds, batch_size=batch_size, shuffle=False)\n",
    "# test_loader = DataLoader(dataset=test_ds, batch_size=batch_size, shuffle=False)\n",
    "\n",
    "\n",
    "class MnistDataModule(pl.LightningDataModule):\n",
    "    def __init__(self, data_dir, batch_size, num_workers):\n",
    "        super().__init__()\n",
    "        self.data_dir = data_dir\n",
    "        self.batch_size = batch_size\n",
    "        self.num_workers = num_workers\n",
    "    \n",
    "    def prepare_data(self):\n",
    "        # prepare the raw data\n",
    "        datasets.MNIST(root=self.data_dir, train=True, download=True)\n",
    "        datasets.MNIST(root=self.data_dir, train=False, download=True)\n",
    "        \n",
    "    def setup(self, stage):\n",
    "        if stage == 'fit':\n",
    "            entire_dataset = datasets.MNIST(root=self.data_dir, \n",
    "                                            train=True, \n",
    "                                            transform=transforms.ToTensor(), \n",
    "                                            download=False)\n",
    "        \n",
    "            self.train_ds, self.val_ds = random_split(entire_dataset, [50000, 10000], generator=torch.Generator().manual_seed(123))\n",
    "        \n",
    "        if stage == 'test':\n",
    "            self.test_ds = datasets.MNIST(root=self.data_dir, \n",
    "                                    train=False, \n",
    "                                    transform=transforms.ToTensor(), \n",
    "                                    download=False)\n",
    "    def train_dataloader(self):\n",
    "        return DataLoader(dataset=self.train_ds, \n",
    "                          batch_size=self.batch_size, \n",
    "                          num_workers=self.num_workers, \n",
    "                          shuffle=True)\n",
    "    \n",
    "    def val_dataloader(self):\n",
    "        return DataLoader(dataset=self.val_ds, \n",
    "                          batch_size=self.batch_size, \n",
    "                          num_workers=self.num_workers, \n",
    "                          shuffle=False)\n",
    "    \n",
    "    def test_dataloader(self):\n",
    "        return DataLoader(dataset=self.test_ds, \n",
    "                          batch_size=self.batch_size, \n",
    "                          num_workers=self.num_workers, \n",
    "                          shuffle=False)\n",
    "\n",
    "dm = MnistDataModule(data_dir=\"/data/\", batch_size=64, num_workers=1)"
   ]
  },
  {
   "cell_type": "code",
   "execution_count": 7,
   "metadata": {},
   "outputs": [],
   "source": [
    "# profiler = PyTorchProfiler(\n",
    "#     on_trace_ready=torch.profiler.tensorboard_trace_handler('./logs'),\n",
    "# )"
   ]
  },
  {
   "cell_type": "code",
   "execution_count": 8,
   "metadata": {},
   "outputs": [
    {
     "name": "stderr",
     "output_type": "stream",
     "text": [
      "Using 16bit Automatic Mixed Precision (AMP)\n",
      "GPU available: True (cuda), used: True\n",
      "TPU available: False, using: 0 TPU cores\n",
      "IPU available: False, using: 0 IPUs\n",
      "HPU available: False, using: 0 HPUs\n",
      "/home/yutong/anaconda3/envs/IMP/lib/python3.10/site-packages/pytorch_lightning/trainer/connectors/logger_connector/logger_connector.py:67: Starting from v1.9.0, `tensorboardX` has been removed as a dependency of the `pytorch_lightning` package, due to potential conflicts with other packages in the ML ecosystem. For this reason, `logger=True` will use `CSVLogger` as the default logger, unless the `tensorboard` or `tensorboardX` packages are found. Please `pip install lightning[extra]` or one of them to enable TensorBoard support by default\n"
     ]
    }
   ],
   "source": [
    "trainer = pl.Trainer(accelerator='gpu', devices=[0],  # cannot do 2 GPUs in ipynb\n",
    "                     min_epochs=1, max_epochs=3, precision='16-mixed',\n",
    "                     profiler='simple')\n"
   ]
  },
  {
   "cell_type": "code",
   "execution_count": 9,
   "metadata": {},
   "outputs": [
    {
     "name": "stderr",
     "output_type": "stream",
     "text": [
      "Missing logger folder: /home/yutong/commented_codebase/pl_tutorial/lightning_logs\n",
      "LOCAL_RANK: 0 - CUDA_VISIBLE_DEVICES: [0,1,2,3,4,5,6,7,8,9]\n",
      "\n",
      "  | Name        | Type               | Params\n",
      "---------------------------------------------------\n",
      "0 | fc1         | Linear             | 39.2 K\n",
      "1 | fc2         | Linear             | 510   \n",
      "2 | loss_fn     | CrossEntropyLoss   | 0     \n",
      "3 | accuracy    | MulticlassAccuracy | 0     \n",
      "4 | f1_score    | MulticlassF1Score  | 0     \n",
      "5 | my_accuracy | MyAccuracy         | 0     \n",
      "---------------------------------------------------\n",
      "39.8 K    Trainable params\n",
      "0         Non-trainable params\n",
      "39.8 K    Total params\n",
      "0.159     Total estimated model params size (MB)\n"
     ]
    },
    {
     "data": {
      "application/vnd.jupyter.widget-view+json": {
       "model_id": "418dc0ddce74487da16e4a3373875c94",
       "version_major": 2,
       "version_minor": 0
      },
      "text/plain": [
       "Sanity Checking: |          | 0/? [00:00<?, ?it/s]"
      ]
     },
     "metadata": {},
     "output_type": "display_data"
    },
    {
     "name": "stderr",
     "output_type": "stream",
     "text": [
      "/home/yutong/anaconda3/envs/IMP/lib/python3.10/site-packages/pytorch_lightning/trainer/connectors/data_connector.py:441: The 'val_dataloader' does not have many workers which may be a bottleneck. Consider increasing the value of the `num_workers` argument` to `num_workers=63` in the `DataLoader` to improve performance.\n",
      "/home/yutong/anaconda3/envs/IMP/lib/python3.10/site-packages/pytorch_lightning/trainer/connectors/data_connector.py:441: The 'train_dataloader' does not have many workers which may be a bottleneck. Consider increasing the value of the `num_workers` argument` to `num_workers=63` in the `DataLoader` to improve performance.\n"
     ]
    },
    {
     "data": {
      "application/vnd.jupyter.widget-view+json": {
       "model_id": "33730b1d22c64398bb9a08095b7ca0d9",
       "version_major": 2,
       "version_minor": 0
      },
      "text/plain": [
       "Training: |          | 0/? [00:00<?, ?it/s]"
      ]
     },
     "metadata": {},
     "output_type": "display_data"
    },
    {
     "data": {
      "application/vnd.jupyter.widget-view+json": {
       "model_id": "097861c8c67f4587b0f3d5efc2f4a5ee",
       "version_major": 2,
       "version_minor": 0
      },
      "text/plain": [
       "Validation: |          | 0/? [00:00<?, ?it/s]"
      ]
     },
     "metadata": {},
     "output_type": "display_data"
    },
    {
     "data": {
      "application/vnd.jupyter.widget-view+json": {
       "model_id": "80c997e162b847238272d24114d31674",
       "version_major": 2,
       "version_minor": 0
      },
      "text/plain": [
       "Validation: |          | 0/? [00:00<?, ?it/s]"
      ]
     },
     "metadata": {},
     "output_type": "display_data"
    },
    {
     "data": {
      "application/vnd.jupyter.widget-view+json": {
       "model_id": "56c39007503f462e99e3bf73eb839fb8",
       "version_major": 2,
       "version_minor": 0
      },
      "text/plain": [
       "Validation: |          | 0/? [00:00<?, ?it/s]"
      ]
     },
     "metadata": {},
     "output_type": "display_data"
    },
    {
     "name": "stderr",
     "output_type": "stream",
     "text": [
      "`Trainer.fit` stopped: `max_epochs=3` reached.\n",
      "FIT Profiler Report\n",
      "\n",
      "--------------------------------------------------------------------------------------------------------------------------------------------------------------------------------------------------------------------------------------------------------------------------\n",
      "|  Action                                                                                                                                                         \t|  Mean duration (s)\t|  Num calls      \t|  Total time (s) \t|  Percentage %   \t|\n",
      "--------------------------------------------------------------------------------------------------------------------------------------------------------------------------------------------------------------------------------------------------------------------------\n",
      "|  Total                                                                                                                                                          \t|  -              \t|  91243          \t|  27.427         \t|  100 %          \t|\n",
      "--------------------------------------------------------------------------------------------------------------------------------------------------------------------------------------------------------------------------------------------------------------------------\n",
      "|  run_training_epoch                                                                                                                                             \t|  7.6533         \t|  3              \t|  22.96          \t|  83.713         \t|\n",
      "|  run_training_batch                                                                                                                                             \t|  0.0050503      \t|  2346           \t|  11.848         \t|  43.198         \t|\n",
      "|  [LightningModule]NN.optimizer_step                                                                                                                             \t|  0.0050009      \t|  2346           \t|  11.732         \t|  42.776         \t|\n",
      "|  [Strategy]SingleDeviceStrategy.training_step                                                                                                                   \t|  0.0029812      \t|  2346           \t|  6.9939         \t|  25.5           \t|\n",
      "|  [_TrainingEpochLoop].train_dataloader_next                                                                                                                     \t|  0.0015653      \t|  2346           \t|  3.6722         \t|  13.389         \t|\n",
      "|  [Strategy]SingleDeviceStrategy.backward                                                                                                                        \t|  0.0012128      \t|  2346           \t|  2.8452         \t|  10.374         \t|\n",
      "|  [Callback]TQDMProgressBar.on_train_batch_end                                                                                                                   \t|  0.00076369     \t|  2346           \t|  1.7916         \t|  6.5324         \t|\n",
      "|  [_EvaluationLoop].val_next                                                                                                                                     \t|  0.0034372      \t|  473            \t|  1.6258         \t|  5.9278         \t|\n",
      "|  [Strategy]SingleDeviceStrategy.batch_to_device                                                                                                                 \t|  0.00022868     \t|  2819           \t|  0.64466        \t|  2.3505         \t|\n",
      "|  [Strategy]SingleDeviceStrategy.validation_step                                                                                                                 \t|  0.0013583      \t|  473            \t|  0.64249        \t|  2.3426         \t|\n",
      "|  [Callback]TQDMProgressBar.on_validation_batch_end                                                                                                              \t|  0.0010817      \t|  473            \t|  0.51165        \t|  1.8655         \t|\n",
      "|  [LightningModule]NN.transfer_batch_to_device                                                                                                                   \t|  0.00016639     \t|  2819           \t|  0.46905        \t|  1.7102         \t|\n",
      "|  [LightningModule]NN.optimizer_zero_grad                                                                                                                        \t|  5.2275e-05     \t|  2346           \t|  0.12264        \t|  0.44714        \t|\n",
      "|  [LightningDataModule]MnistDataModule.prepare_data                                                                                                              \t|  0.098776       \t|  1              \t|  0.098776       \t|  0.36014        \t|\n",
      "|  [LightningDataModule]MnistDataModule.setup                                                                                                                     \t|  0.057106       \t|  1              \t|  0.057106       \t|  0.20821        \t|\n",
      "|  [LightningModule]NN.configure_gradient_clipping                                                                                                                \t|  1.9482e-05     \t|  2346           \t|  0.045706       \t|  0.16665        \t|\n",
      "|  [Callback]TQDMProgressBar.on_validation_start                                                                                                                  \t|  0.010814       \t|  4              \t|  0.043254       \t|  0.15771        \t|\n",
      "|  [Callback]ModelCheckpoint{'monitor': None, 'mode': 'min', 'every_n_train_steps': 0, 'every_n_epochs': 1, 'train_time_interval': None}.on_train_batch_end       \t|  1.5573e-05     \t|  2346           \t|  0.036533       \t|  0.1332         \t|\n",
      "|  [Callback]ModelCheckpoint{'monitor': None, 'mode': 'min', 'every_n_train_steps': 0, 'every_n_epochs': 1, 'train_time_interval': None}.on_train_epoch_end       \t|  0.0073331      \t|  3              \t|  0.021999       \t|  0.080211       \t|\n",
      "|  [Callback]TQDMProgressBar.on_sanity_check_start                                                                                                                \t|  0.015852       \t|  1              \t|  0.015852       \t|  0.057795       \t|\n",
      "|  [Callback]TQDMProgressBar.on_train_start                                                                                                                       \t|  0.012809       \t|  1              \t|  0.012809       \t|  0.046702       \t|\n",
      "|  [Callback]TQDMProgressBar.on_validation_batch_start                                                                                                            \t|  2.2637e-05     \t|  473            \t|  0.010707       \t|  0.039039       \t|\n",
      "|  [Callback]ModelSummary.on_train_batch_end                                                                                                                      \t|  3.0102e-06     \t|  2346           \t|  0.0070619      \t|  0.025748       \t|\n",
      "|  [Callback]TQDMProgressBar.on_before_zero_grad                                                                                                                  \t|  2.6596e-06     \t|  2346           \t|  0.0062393      \t|  0.022749       \t|\n",
      "|  [Callback]TQDMProgressBar.on_before_backward                                                                                                                   \t|  2.5188e-06     \t|  2346           \t|  0.005909       \t|  0.021545       \t|\n",
      "|  [Callback]TQDMProgressBar.on_before_optimizer_step                                                                                                             \t|  2.4117e-06     \t|  2346           \t|  0.0056578      \t|  0.020629       \t|\n",
      "|  [LightningModule]NN.on_before_batch_transfer                                                                                                                   \t|  1.9629e-06     \t|  2819           \t|  0.0055334      \t|  0.020175       \t|\n",
      "|  [Callback]TQDMProgressBar.on_train_batch_start                                                                                                                 \t|  2.1811e-06     \t|  2346           \t|  0.005117       \t|  0.018657       \t|\n",
      "|  [Callback]TQDMProgressBar.on_validation_end                                                                                                                    \t|  0.0012737      \t|  4              \t|  0.0050948      \t|  0.018576       \t|\n",
      "|  [Callback]TQDMProgressBar.on_after_backward                                                                                                                    \t|  2.12e-06       \t|  2346           \t|  0.0049735      \t|  0.018133       \t|\n",
      "|  [LightningModule]NN.on_after_batch_transfer                                                                                                                    \t|  1.5213e-06     \t|  2819           \t|  0.0042886      \t|  0.015636       \t|\n",
      "|  [Callback]ModelCheckpoint{'monitor': None, 'mode': 'min', 'every_n_train_steps': 0, 'every_n_epochs': 1, 'train_time_interval': None}.on_after_backward        \t|  1.515e-06      \t|  2346           \t|  0.0035542      \t|  0.012959       \t|\n",
      "|  [Callback]ModelSummary.on_before_optimizer_step                                                                                                                \t|  1.4232e-06     \t|  2346           \t|  0.0033388      \t|  0.012174       \t|\n",
      "|  [Callback]ModelSummary.on_train_batch_start                                                                                                                    \t|  1.3924e-06     \t|  2346           \t|  0.0032666      \t|  0.01191        \t|\n",
      "|  [Callback]ModelSummary.on_before_backward                                                                                                                      \t|  1.3894e-06     \t|  2346           \t|  0.0032596      \t|  0.011885       \t|\n",
      "|  [Callback]ModelSummary.on_before_zero_grad                                                                                                                     \t|  1.3649e-06     \t|  2346           \t|  0.0032021      \t|  0.011675       \t|\n",
      "|  [Callback]TQDMProgressBar.on_train_epoch_end                                                                                                                   \t|  0.0010653      \t|  3              \t|  0.0031959      \t|  0.011652       \t|\n",
      "|  [Callback]ModelCheckpoint{'monitor': None, 'mode': 'min', 'every_n_train_steps': 0, 'every_n_epochs': 1, 'train_time_interval': None}.on_train_batch_start     \t|  1.3066e-06     \t|  2346           \t|  0.0030653      \t|  0.011176       \t|\n",
      "|  [Callback]ModelCheckpoint{'monitor': None, 'mode': 'min', 'every_n_train_steps': 0, 'every_n_epochs': 1, 'train_time_interval': None}.on_before_optimizer_step \t|  1.2702e-06     \t|  2346           \t|  0.0029799      \t|  0.010865       \t|\n",
      "|  [Callback]ModelCheckpoint{'monitor': None, 'mode': 'min', 'every_n_train_steps': 0, 'every_n_epochs': 1, 'train_time_interval': None}.on_before_zero_grad      \t|  1.2701e-06     \t|  2346           \t|  0.0029798      \t|  0.010864       \t|\n",
      "|  [Callback]ModelCheckpoint{'monitor': None, 'mode': 'min', 'every_n_train_steps': 0, 'every_n_epochs': 1, 'train_time_interval': None}.on_before_backward       \t|  1.2523e-06     \t|  2346           \t|  0.0029379      \t|  0.010712       \t|\n",
      "|  [Callback]ModelSummary.on_after_backward                                                                                                                       \t|  1.2023e-06     \t|  2346           \t|  0.0028206      \t|  0.010284       \t|\n",
      "|  [Callback]ModelSummary.on_validation_batch_end                                                                                                                 \t|  5.9526e-06     \t|  473            \t|  0.0028156      \t|  0.010266       \t|\n",
      "|  [LightningModule]NN.on_train_batch_end                                                                                                                         \t|  1.1307e-06     \t|  2346           \t|  0.0026527      \t|  0.009672       \t|\n",
      "|  [Callback]TQDMProgressBar.on_train_epoch_start                                                                                                                 \t|  0.00088315     \t|  3              \t|  0.0026494      \t|  0.00966        \t|\n",
      "|  [LightningModule]NN.on_before_zero_grad                                                                                                                        \t|  1.1122e-06     \t|  2346           \t|  0.0026091      \t|  0.009513       \t|\n",
      "|  [LightningModule]NN.on_before_backward                                                                                                                         \t|  1.0426e-06     \t|  2346           \t|  0.0024459      \t|  0.0089179      \t|\n",
      "|  [LightningModule]NN.on_after_backward                                                                                                                          \t|  1.0079e-06     \t|  2346           \t|  0.0023645      \t|  0.0086209      \t|\n",
      "|  [LightningModule]NN.on_before_optimizer_step                                                                                                                   \t|  9.8015e-07     \t|  2346           \t|  0.0022994      \t|  0.0083839      \t|\n",
      "|  [LightningModule]NN.on_train_batch_start                                                                                                                       \t|  9.3116e-07     \t|  2346           \t|  0.0021845      \t|  0.0079648      \t|\n",
      "|  [Strategy]SingleDeviceStrategy.on_train_batch_start                                                                                                            \t|  7.7322e-07     \t|  2346           \t|  0.001814       \t|  0.0066138      \t|\n",
      "|  [Callback]ModelSummary.on_fit_start                                                                                                                            \t|  0.0017637      \t|  1              \t|  0.0017637      \t|  0.0064305      \t|\n",
      "|  [Callback]ModelCheckpoint{'monitor': None, 'mode': 'min', 'every_n_train_steps': 0, 'every_n_epochs': 1, 'train_time_interval': None}.on_validation_batch_end  \t|  3.5803e-06     \t|  473            \t|  0.0016935      \t|  0.0061746      \t|\n",
      "|  [Callback]ModelSummary.on_validation_batch_start                                                                                                               \t|  3.483e-06      \t|  473            \t|  0.0016475      \t|  0.0060067      \t|\n",
      "|  [Callback]ModelCheckpoint{'monitor': None, 'mode': 'min', 'every_n_train_steps': 0, 'every_n_epochs': 1, 'train_time_interval': None}.on_validation_batch_start\t|  3.2158e-06     \t|  473            \t|  0.0015211      \t|  0.0055458      \t|\n",
      "|  [LightningModule]NN.on_validation_model_eval                                                                                                                   \t|  0.00031581     \t|  4              \t|  0.0012632      \t|  0.0046058      \t|\n",
      "|  [LightningModule]NN.on_validation_batch_end                                                                                                                    \t|  2.5503e-06     \t|  473            \t|  0.0012063      \t|  0.0043981      \t|\n",
      "|  [LightningModule]NN.on_validation_batch_start                                                                                                                  \t|  2.1759e-06     \t|  473            \t|  0.0010292      \t|  0.0037525      \t|\n",
      "|  [Callback]TQDMProgressBar.on_train_end                                                                                                                         \t|  0.00061107     \t|  1              \t|  0.00061107     \t|  0.002228       \t|\n",
      "|  [LightningModule]NN.on_validation_model_train                                                                                                                  \t|  0.00013883     \t|  4              \t|  0.00055533     \t|  0.0020248      \t|\n",
      "|  [LightningDataModule]MnistDataModule.val_dataloader                                                                                                            \t|  0.00037268     \t|  1              \t|  0.00037268     \t|  0.0013588      \t|\n",
      "|  [LightningModule]NN.on_validation_model_zero_grad                                                                                                              \t|  0.00010573     \t|  3              \t|  0.00031719     \t|  0.0011565      \t|\n",
      "|  [Callback]ModelCheckpoint{'monitor': None, 'mode': 'min', 'every_n_train_steps': 0, 'every_n_epochs': 1, 'train_time_interval': None}.on_validation_end        \t|  7.8956e-05     \t|  4              \t|  0.00031582     \t|  0.0011515      \t|\n",
      "|  [LightningDataModule]MnistDataModule.train_dataloader                                                                                                          \t|  0.0002958      \t|  1              \t|  0.0002958      \t|  0.0010785      \t|\n",
      "|  [LightningModule]NN.configure_optimizers                                                                                                                       \t|  0.00017886     \t|  1              \t|  0.00017886     \t|  0.00065213     \t|\n",
      "|  [Callback]ModelCheckpoint{'monitor': None, 'mode': 'min', 'every_n_train_steps': 0, 'every_n_epochs': 1, 'train_time_interval': None}.setup                    \t|  0.00017796     \t|  1              \t|  0.00017796     \t|  0.00064886     \t|\n",
      "|  [Callback]ModelSummary.on_validation_start                                                                                                                     \t|  9.876e-06      \t|  4              \t|  3.9504e-05     \t|  0.00014403     \t|\n",
      "|  [Callback]ModelSummary.on_train_start                                                                                                                          \t|  3.5139e-05     \t|  1              \t|  3.5139e-05     \t|  0.00012812     \t|\n",
      "|  [Callback]TQDMProgressBar.on_save_checkpoint                                                                                                                   \t|  8.7608e-06     \t|  3              \t|  2.6282e-05     \t|  9.5827e-05     \t|\n",
      "|  [Callback]ModelSummary.on_validation_end                                                                                                                       \t|  5.1776e-06     \t|  4              \t|  2.071e-05      \t|  7.5511e-05     \t|\n",
      "|  [LightningDataModule]MnistDataModule.state_dict                                                                                                                \t|  6.8299e-06     \t|  3              \t|  2.049e-05      \t|  7.4706e-05     \t|\n",
      "|  [Callback]TQDMProgressBar.on_validation_epoch_end                                                                                                              \t|  4.8788e-06     \t|  4              \t|  1.9515e-05     \t|  7.1154e-05     \t|\n",
      "|  [Callback]ModelSummary.on_train_epoch_end                                                                                                                      \t|  5.1103e-06     \t|  3              \t|  1.5331e-05     \t|  5.5898e-05     \t|\n",
      "|  [Strategy]SingleDeviceStrategy.on_validation_start                                                                                                             \t|  3.628e-06      \t|  4              \t|  1.4512e-05     \t|  5.2911e-05     \t|\n",
      "|  [Callback]ModelCheckpoint{'monitor': None, 'mode': 'min', 'every_n_train_steps': 0, 'every_n_epochs': 1, 'train_time_interval': None}.on_validation_epoch_end  \t|  2.9021e-06     \t|  4              \t|  1.1608e-05     \t|  4.2325e-05     \t|\n",
      "|  [Callback]ModelSummary.on_validation_epoch_end                                                                                                                 \t|  2.8496e-06     \t|  4              \t|  1.1398e-05     \t|  4.1559e-05     \t|\n",
      "|  [Callback]TQDMProgressBar.setup                                                                                                                                \t|  9.4478e-06     \t|  1              \t|  9.4478e-06     \t|  3.4447e-05     \t|\n",
      "|  [Callback]ModelSummary.on_train_epoch_start                                                                                                                    \t|  3.1243e-06     \t|  3              \t|  9.3728e-06     \t|  3.4174e-05     \t|\n",
      "|  [Callback]TQDMProgressBar.on_fit_end                                                                                                                           \t|  8.9849e-06     \t|  1              \t|  8.9849e-06     \t|  3.276e-05      \t|\n",
      "|  [LightningModule]NN.on_validation_epoch_end                                                                                                                    \t|  2.1086e-06     \t|  4              \t|  8.4345e-06     \t|  3.0753e-05     \t|\n",
      "|  [Strategy]SingleDeviceStrategy.on_validation_end                                                                                                               \t|  2.0681e-06     \t|  4              \t|  8.2725e-06     \t|  3.0162e-05     \t|\n",
      "|  [Callback]ModelSummary.on_save_checkpoint                                                                                                                      \t|  2.7072e-06     \t|  3              \t|  8.1216e-06     \t|  2.9612e-05     \t|\n",
      "|  [Callback]ModelCheckpoint{'monitor': None, 'mode': 'min', 'every_n_train_steps': 0, 'every_n_epochs': 1, 'train_time_interval': None}.on_train_start           \t|  7.7551e-06     \t|  1              \t|  7.7551e-06     \t|  2.8276e-05     \t|\n",
      "|  [LightningModule]NN.on_validation_end                                                                                                                          \t|  1.864e-06      \t|  4              \t|  7.4562e-06     \t|  2.7186e-05     \t|\n",
      "|  [LightningModule]NN.on_train_epoch_start                                                                                                                       \t|  2.3668e-06     \t|  3              \t|  7.1004e-06     \t|  2.5888e-05     \t|\n",
      "|  [LightningModule]NN.on_train_epoch_end                                                                                                                         \t|  2.3179e-06     \t|  3              \t|  6.9537e-06     \t|  2.5354e-05     \t|\n",
      "|  [Callback]ModelCheckpoint{'monitor': None, 'mode': 'min', 'every_n_train_steps': 0, 'every_n_epochs': 1, 'train_time_interval': None}.on_validation_start      \t|  1.7368e-06     \t|  4              \t|  6.9472e-06     \t|  2.533e-05      \t|\n",
      "|  [LightningModule]NN.on_train_start                                                                                                                             \t|  6.868e-06      \t|  1              \t|  6.868e-06      \t|  2.5041e-05     \t|\n",
      "|  [Callback]TQDMProgressBar.on_validation_epoch_start                                                                                                            \t|  1.5656e-06     \t|  4              \t|  6.2622e-06     \t|  2.2832e-05     \t|\n",
      "|  [Callback]ModelCheckpoint{'monitor': None, 'mode': 'min', 'every_n_train_steps': 0, 'every_n_epochs': 1, 'train_time_interval': None}.on_save_checkpoint       \t|  1.9952e-06     \t|  3              \t|  5.9856e-06     \t|  2.1824e-05     \t|\n",
      "|  [Callback]TQDMProgressBar.teardown                                                                                                                             \t|  5.4701e-06     \t|  1              \t|  5.4701e-06     \t|  1.9944e-05     \t|\n",
      "|  [Callback]ModelSummary.on_validation_epoch_start                                                                                                               \t|  1.361e-06      \t|  4              \t|  5.444e-06      \t|  1.9849e-05     \t|\n",
      "|  [LightningModule]NN.on_save_checkpoint                                                                                                                         \t|  1.7538e-06     \t|  3              \t|  5.2615e-06     \t|  1.9184e-05     \t|\n",
      "|  [Callback]ModelSummary.on_fit_end                                                                                                                              \t|  5.1511e-06     \t|  1              \t|  5.1511e-06     \t|  1.8781e-05     \t|\n",
      "|  [Callback]ModelCheckpoint{'monitor': None, 'mode': 'min', 'every_n_train_steps': 0, 'every_n_epochs': 1, 'train_time_interval': None}.on_validation_epoch_start\t|  1.2856e-06     \t|  4              \t|  5.1423e-06     \t|  1.8749e-05     \t|\n",
      "|  [LightningModule]NN.on_validation_start                                                                                                                        \t|  1.2813e-06     \t|  4              \t|  5.1251e-06     \t|  1.8686e-05     \t|\n",
      "|  [Callback]TQDMProgressBar.on_sanity_check_end                                                                                                                  \t|  5.024e-06      \t|  1              \t|  5.024e-06      \t|  1.8318e-05     \t|\n",
      "|  [LightningDataModule]MnistDataModule.teardown                                                                                                                  \t|  5.01e-06       \t|  1              \t|  5.01e-06       \t|  1.8267e-05     \t|\n",
      "|  [Callback]ModelCheckpoint{'monitor': None, 'mode': 'min', 'every_n_train_steps': 0, 'every_n_epochs': 1, 'train_time_interval': None}.on_train_epoch_start     \t|  1.6123e-06     \t|  3              \t|  4.8368e-06     \t|  1.7635e-05     \t|\n",
      "|  [Callback]ModelCheckpoint{'monitor': None, 'mode': 'min', 'every_n_train_steps': 0, 'every_n_epochs': 1, 'train_time_interval': None}.on_fit_start             \t|  4.7251e-06     \t|  1              \t|  4.7251e-06     \t|  1.7228e-05     \t|\n",
      "|  [Callback]ModelSummary.teardown                                                                                                                                \t|  4.475e-06      \t|  1              \t|  4.475e-06      \t|  1.6316e-05     \t|\n",
      "|  [Callback]ModelCheckpoint{'monitor': None, 'mode': 'min', 'every_n_train_steps': 0, 'every_n_epochs': 1, 'train_time_interval': None}.on_fit_end               \t|  4.1001e-06     \t|  1              \t|  4.1001e-06     \t|  1.4949e-05     \t|\n",
      "|  [Callback]ModelSummary.on_sanity_check_start                                                                                                                   \t|  3.9143e-06     \t|  1              \t|  3.9143e-06     \t|  1.4272e-05     \t|\n",
      "|  [Callback]ModelCheckpoint{'monitor': None, 'mode': 'min', 'every_n_train_steps': 0, 'every_n_epochs': 1, 'train_time_interval': None}.teardown                 \t|  3.8398e-06     \t|  1              \t|  3.8398e-06     \t|  1.4e-05        \t|\n",
      "|  [Callback]ModelSummary.on_train_end                                                                                                                            \t|  3.5837e-06     \t|  1              \t|  3.5837e-06     \t|  1.3066e-05     \t|\n",
      "|  [LightningModule]NN.on_validation_epoch_start                                                                                                                  \t|  8.943e-07      \t|  4              \t|  3.5772e-06     \t|  1.3043e-05     \t|\n",
      "|  [LightningModule]NN.on_fit_end                                                                                                                                 \t|  3.4557e-06     \t|  1              \t|  3.4557e-06     \t|  1.26e-05       \t|\n",
      "|  [LightningModule]NN.configure_callbacks                                                                                                                        \t|  3.4259e-06     \t|  1              \t|  3.4259e-06     \t|  1.2491e-05     \t|\n",
      "|  [Strategy]SingleDeviceStrategy.on_train_start                                                                                                                  \t|  3.4142e-06     \t|  1              \t|  3.4142e-06     \t|  1.2448e-05     \t|\n",
      "|  [LightningModule]NN.teardown                                                                                                                                   \t|  3.2303e-06     \t|  1              \t|  3.2303e-06     \t|  1.1778e-05     \t|\n",
      "|  [Callback]ModelSummary.setup                                                                                                                                   \t|  3.1479e-06     \t|  1              \t|  3.1479e-06     \t|  1.1477e-05     \t|\n",
      "|  [Callback]TQDMProgressBar.on_fit_start                                                                                                                         \t|  2.8792e-06     \t|  1              \t|  2.8792e-06     \t|  1.0498e-05     \t|\n",
      "|  [LightningModule]NN.setup                                                                                                                                      \t|  2.4922e-06     \t|  1              \t|  2.4922e-06     \t|  9.0868e-06     \t|\n",
      "|  [LightningModule]NN.prepare_data                                                                                                                               \t|  2.454e-06      \t|  1              \t|  2.454e-06      \t|  8.9475e-06     \t|\n",
      "|  [Callback]ModelCheckpoint{'monitor': None, 'mode': 'min', 'every_n_train_steps': 0, 'every_n_epochs': 1, 'train_time_interval': None}.on_train_end             \t|  2.2119e-06     \t|  1              \t|  2.2119e-06     \t|  8.0647e-06     \t|\n",
      "|  [LightningModule]NN.on_fit_start                                                                                                                               \t|  1.9791e-06     \t|  1              \t|  1.9791e-06     \t|  7.2158e-06     \t|\n",
      "|  [Callback]ModelCheckpoint{'monitor': None, 'mode': 'min', 'every_n_train_steps': 0, 'every_n_epochs': 1, 'train_time_interval': None}.on_sanity_check_start    \t|  1.9199e-06     \t|  1              \t|  1.9199e-06     \t|  7.0001e-06     \t|\n",
      "|  [LightningModule]NN.on_train_end                                                                                                                               \t|  1.7998e-06     \t|  1              \t|  1.7998e-06     \t|  6.5621e-06     \t|\n",
      "|  [Callback]ModelSummary.on_sanity_check_end                                                                                                                     \t|  1.708e-06      \t|  1              \t|  1.708e-06      \t|  6.2276e-06     \t|\n",
      "|  [Strategy]SingleDeviceStrategy.on_train_end                                                                                                                    \t|  1.525e-06      \t|  1              \t|  1.525e-06      \t|  5.5604e-06     \t|\n",
      "|  [Callback]ModelCheckpoint{'monitor': None, 'mode': 'min', 'every_n_train_steps': 0, 'every_n_epochs': 1, 'train_time_interval': None}.on_sanity_check_end      \t|  1.4431e-06     \t|  1              \t|  1.4431e-06     \t|  5.2616e-06     \t|\n",
      "--------------------------------------------------------------------------------------------------------------------------------------------------------------------------------------------------------------------------------------------------------------------------\n",
      "\n"
     ]
    }
   ],
   "source": [
    "trainer.fit(model, dm)"
   ]
  },
  {
   "cell_type": "code",
   "execution_count": null,
   "metadata": {},
   "outputs": [],
   "source": []
  }
 ],
 "metadata": {
  "kernelspec": {
   "display_name": "IMP",
   "language": "python",
   "name": "python3"
  },
  "language_info": {
   "codemirror_mode": {
    "name": "ipython",
    "version": 3
   },
   "file_extension": ".py",
   "mimetype": "text/x-python",
   "name": "python",
   "nbconvert_exporter": "python",
   "pygments_lexer": "ipython3",
   "version": "3.10.13"
  }
 },
 "nbformat": 4,
 "nbformat_minor": 2
}

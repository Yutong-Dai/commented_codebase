{
 "cells": [
  {
   "cell_type": "markdown",
   "metadata": {},
   "source": [
    "# 对话机器人\n",
    "\n",
    "## 单轮对话\n",
    "<div>\n",
    "<img src=\"figs/10_single_turn.jpg\" width=\"1000\"/>\n",
    "</div>\n",
    "\n"
   ]
  },
  {
   "cell_type": "markdown",
   "metadata": {},
   "source": [
    "## 多轮对话\n",
    "\n",
    "<div>\n",
    "<img src=\"figs/10_multi_turn_1.jpg\" width=\"1000\"/>\n",
    "</div>\n",
    "\n",
    "* 效率比较低下比如一个三轮的对话样本(Q_1,A_1,Q_2,A_2,Q_3,A_3) 需要拆分成三条数据\n",
    "* (Q_1,A_1) -> (Q_1A_1Q_2, A_2) -> (Q_1A_1Q_2A_2Q_3, A_3)\n",
    "\n",
    "<div>\n",
    "<img src=\"figs/10_multi_turn_2.jpg\" width=\"1000\"/>\n",
    "</div>\n",
    "\n",
    "* 不拆分多轮对话，直接当成一轮。\n",
    "* 上三角mask矩阵保证上一轮对话看不到下面的，但是之后的对话，可以看到上一轮的。"
   ]
  },
  {
   "cell_type": "markdown",
   "metadata": {},
   "source": [
    "# 1. 导包"
   ]
  },
  {
   "cell_type": "code",
   "execution_count": 1,
   "metadata": {},
   "outputs": [],
   "source": [
    "import os\n",
    "# os.environ[\"WORLD_SIZE\"] = \"1\"\n",
    "os.environ[\"CUDA_VISIBLE_DEVICES\"] = \"0,1,2,3\"\n",
    "from datasets import Dataset\n",
    "from transformers import AutoTokenizer, AutoModelForCausalLM, DataCollatorForSeq2Seq, TrainingArguments, Trainer\n",
    "# we do not use the DataCollatorForLanguageModeling because we need to pass the labels manually"
   ]
  },
  {
   "cell_type": "markdown",
   "metadata": {},
   "source": [
    "# 2. 导入数据"
   ]
  },
  {
   "cell_type": "code",
   "execution_count": 2,
   "metadata": {},
   "outputs": [],
   "source": [
    "ds = Dataset.load_from_disk('data/alpaca_data_zh')"
   ]
  },
  {
   "cell_type": "code",
   "execution_count": 3,
   "metadata": {},
   "outputs": [
    {
     "data": {
      "text/plain": [
       "{'output': ['以下是保持健康的三个提示：\\n\\n1. 保持身体活动。每天做适当的身体运动，如散步、跑步或游泳，能促进心血管健康，增强肌肉力量，并有助于减少体重。\\n\\n2. 均衡饮食。每天食用新鲜的蔬菜、水果、全谷物和脂肪含量低的蛋白质食物，避免高糖、高脂肪和加工食品，以保持健康的饮食习惯。\\n\\n3. 睡眠充足。睡眠对人体健康至关重要，成年人每天应保证 7-8 小时的睡眠。良好的睡眠有助于减轻压力，促进身体恢复，并提高注意力和记忆力。',\n",
       "  '4/16等于1/4是因为我们可以约分分子分母都除以他们的最大公约数4，得到（4÷4）/ (16÷4）=1/4。分数的约分是用分子和分母除以相同的非零整数，来表示分数的一个相同的值，这因为分数实际上表示了分子除以分母，所以即使两个数同时除以同一个非零整数，分数的值也不会改变。所以4/16 和1/4是两种不同的书写形式，但它们的值相等。',\n",
       "  '朱利叶斯·凯撒，又称尤利乌斯·恺撒（Julius Caesar）是古罗马的政治家、军事家和作家。他于公元前44年3月15日被刺杀。 \\n\\n根据历史记载，当时罗马元老院里一些参议员联合起来策划了对恺撒的刺杀行动，因为他们担心恺撒的统治将给罗马共和制带来威胁。在公元前44年3月15日（又称“3月的艾达之日”），恺撒去参加元老院会议时，被一群参议员包围并被攻击致死。据记载，他身中23刀，其中一刀最终致命。'],\n",
       " 'input': ['', '输入：4/16', ''],\n",
       " 'instruction': ['保持健康的三个提示。', '解释为什么以下分数等同于1/4', '朱利叶斯·凯撒是如何死亡的？']}"
      ]
     },
     "execution_count": 3,
     "metadata": {},
     "output_type": "execute_result"
    }
   ],
   "source": [
    "ds[:3]"
   ]
  },
  {
   "cell_type": "code",
   "execution_count": 4,
   "metadata": {},
   "outputs": [],
   "source": [
    "datasets = ds.train_test_split(test_size=0.2)"
   ]
  },
  {
   "cell_type": "markdown",
   "metadata": {},
   "source": [
    "# 3. 预处理"
   ]
  },
  {
   "cell_type": "code",
   "execution_count": 5,
   "metadata": {},
   "outputs": [],
   "source": [
    "ckpt = 'Langboat/bloom-389m-zh'\n",
    "tokenizer = AutoTokenizer.from_pretrained(ckpt)\n",
    "\n",
    "def process_function(example):\n",
    "    MAX_LENGTH = 256\n",
    "    input_ids, attention_mask, labels = [], [], []\n",
    "    instruction = example['instruction']\n",
    "    input_str = example['input']\n",
    "    instruction_input_seq = \"\\n\".join([\"Human: \" + instruction, input_str]).strip() + \"\\n\\n Assistant:\"\n",
    "    response_str = example['output'] + tokenizer.eos_token\n",
    "    tokenized_instruction_input = tokenizer(instruction_input_seq)\n",
    "    tokenized_response = tokenizer(response_str)\n",
    "    input_ids = tokenized_instruction_input['input_ids'] + tokenized_response['input_ids']\n",
    "    attention_mask = tokenized_instruction_input['attention_mask'] + tokenized_response['attention_mask']\n",
    "    labels = [-100] * len(tokenized_instruction_input['input_ids']) + tokenized_response['input_ids']\n",
    "    if len(input_ids) > MAX_LENGTH:\n",
    "        input_ids = input_ids[:MAX_LENGTH]\n",
    "        attention_mask = attention_mask[:MAX_LENGTH]\n",
    "        labels = labels[:MAX_LENGTH]\n",
    "    return {'input_ids': input_ids, 'attention_mask': attention_mask, 'labels': labels}\n",
    "    "
   ]
  },
  {
   "cell_type": "markdown",
   "metadata": {},
   "source": [
    "```\n",
    "不管截断还是不截断，计算loss的方式还是不变的，参考因果语言模型的loss计算方式，它只会预测下一个token应该是什么，\n",
    "如果最后token的下一个token就不是eos_token，那完全没影响，只是说这条回复没有训练完整，但是在其他的数据上还是会学习到什么时候要结束，\n",
    "即解码出eos_token。当然了，肯定还是不截断最好。\n",
    "```"
   ]
  },
  {
   "cell_type": "code",
   "execution_count": 6,
   "metadata": {},
   "outputs": [
    {
     "data": {
      "application/vnd.jupyter.widget-view+json": {
       "model_id": "c718db297ece4a1eaa60831a069ff636",
       "version_major": 2,
       "version_minor": 0
      },
      "text/plain": [
       "Map:   0%|          | 0/21486 [00:00<?, ? examples/s]"
      ]
     },
     "metadata": {},
     "output_type": "display_data"
    },
    {
     "data": {
      "application/vnd.jupyter.widget-view+json": {
       "model_id": "be821dee94394d99afdfc06c332bc48e",
       "version_major": 2,
       "version_minor": 0
      },
      "text/plain": [
       "Map:   0%|          | 0/5372 [00:00<?, ? examples/s]"
      ]
     },
     "metadata": {},
     "output_type": "display_data"
    }
   ],
   "source": [
    "tokenized_ds = datasets.map(process_function, remove_columns=ds.column_names) "
   ]
  },
  {
   "cell_type": "code",
   "execution_count": 7,
   "metadata": {},
   "outputs": [
    {
     "name": "stdout",
     "output_type": "stream",
     "text": [
      "[23069, 29, 210, 21198, 3384, 1205, 17578, 1806, 671, 189]\n",
      "[-100, -100, -100, -100, -100, -100, -100, -100, -100, -100]\n"
     ]
    }
   ],
   "source": [
    "print(tokenized_ds['train'][13]['input_ids'][:10])\n",
    "print(tokenized_ds['train'][13]['labels'][:10])"
   ]
  },
  {
   "cell_type": "code",
   "execution_count": 8,
   "metadata": {},
   "outputs": [
    {
     "data": {
      "text/plain": [
       "'Human: 列出人口前十大国家。\\n\\n Assistant:根据联合国2021年统计数据，世界人口前十大国家为（人口单位：亿）：\\n1. 中国：13.98\\n2. 印度：13.62\\n3. 美国：3.311\\n4. 印度尼西亚：2.734\\n5. 巴基斯坦：2.221\\n6. 巴西：2.139 \\n7. 奈及利亚：2.078\\n8. 孟加拉国：1.646\\n9. 俄罗斯：1.443\\n10. 墨西哥：1.297</s>'"
      ]
     },
     "execution_count": 8,
     "metadata": {},
     "output_type": "execute_result"
    }
   ],
   "source": [
    "tokenizer.decode(tokenized_ds['train'][13]['input_ids'])"
   ]
  },
  {
   "cell_type": "code",
   "execution_count": 9,
   "metadata": {},
   "outputs": [
    {
     "data": {
      "text/plain": [
       "'根据联合国2021年统计数据，世界人口前十大国家为（人口单位：亿）：\\n1. 中国：13.98\\n2. 印度：13.62\\n3. 美国：3.311\\n4. 印度尼西亚：2.734\\n5. 巴基斯坦：2.221\\n6. 巴西：2.139 \\n7. 奈及利亚：2.078\\n8. 孟加拉国：1.646\\n9. 俄罗斯：1.443\\n10. 墨西哥：1.297</s>'"
      ]
     },
     "execution_count": 9,
     "metadata": {},
     "output_type": "execute_result"
    }
   ],
   "source": [
    "tokenizer.decode(list(filter(lambda x: x!=-100, tokenized_ds['train'][13]['labels'])))"
   ]
  },
  {
   "cell_type": "markdown",
   "metadata": {},
   "source": [
    "# 4. 创建模型"
   ]
  },
  {
   "cell_type": "code",
   "execution_count": 10,
   "metadata": {},
   "outputs": [],
   "source": [
    "model = AutoModelForCausalLM.from_pretrained(ckpt)\n",
    "\n",
    "args = TrainingArguments(   output_dir='./chatbot/',\n",
    "                            num_train_epochs=2,\n",
    "                            per_device_train_batch_size=8,\n",
    "                            gradient_accumulation_steps=4,\n",
    "                            per_device_eval_batch_size=8,\n",
    "                            logging_steps=10,\n",
    "                            load_best_model_at_end=True,\n",
    "                            evaluation_strategy='epoch',\n",
    "                            save_strategy='epoch',\n",
    "                            save_total_limit=1,\n",
    "                            report_to='wandb',\n",
    "                        )\n",
    "trainer = Trainer(model=model, args=args, train_dataset=tokenized_ds['train'], eval_dataset=tokenized_ds['test'],\n",
    "                data_collator=DataCollatorForSeq2Seq(tokenizer=tokenizer, padding=True))"
   ]
  },
  {
   "cell_type": "markdown",
   "metadata": {},
   "source": [
    "# 5. 训练"
   ]
  },
  {
   "cell_type": "code",
   "execution_count": 11,
   "metadata": {},
   "outputs": [
    {
     "name": "stderr",
     "output_type": "stream",
     "text": [
      "Failed to detect the name of this notebook, you can set it manually with the WANDB_NOTEBOOK_NAME environment variable to enable code saving.\n",
      "\u001b[34m\u001b[1mwandb\u001b[0m: Currently logged in as: \u001b[33myutongdai\u001b[0m. Use \u001b[1m`wandb login --relogin`\u001b[0m to force relogin\n"
     ]
    },
    {
     "data": {
      "text/html": [
       "Tracking run with wandb version 0.16.1"
      ],
      "text/plain": [
       "<IPython.core.display.HTML object>"
      ]
     },
     "metadata": {},
     "output_type": "display_data"
    },
    {
     "data": {
      "text/html": [
       "Run data is saved locally in <code>/home/yutong/commented_codebase/hf_tutorial/wandb/run-20231209_143622-dltalh3j</code>"
      ],
      "text/plain": [
       "<IPython.core.display.HTML object>"
      ]
     },
     "metadata": {},
     "output_type": "display_data"
    },
    {
     "data": {
      "text/html": [
       "Syncing run <strong><a href='https://wandb.ai/yutongdai/huggingface/runs/dltalh3j' target=\"_blank\">rich-breeze-6</a></strong> to <a href='https://wandb.ai/yutongdai/huggingface' target=\"_blank\">Weights & Biases</a> (<a href='https://wandb.me/run' target=\"_blank\">docs</a>)<br/>"
      ],
      "text/plain": [
       "<IPython.core.display.HTML object>"
      ]
     },
     "metadata": {},
     "output_type": "display_data"
    },
    {
     "data": {
      "text/html": [
       " View project at <a href='https://wandb.ai/yutongdai/huggingface' target=\"_blank\">https://wandb.ai/yutongdai/huggingface</a>"
      ],
      "text/plain": [
       "<IPython.core.display.HTML object>"
      ]
     },
     "metadata": {},
     "output_type": "display_data"
    },
    {
     "data": {
      "text/html": [
       " View run at <a href='https://wandb.ai/yutongdai/huggingface/runs/dltalh3j' target=\"_blank\">https://wandb.ai/yutongdai/huggingface/runs/dltalh3j</a>"
      ],
      "text/plain": [
       "<IPython.core.display.HTML object>"
      ]
     },
     "metadata": {},
     "output_type": "display_data"
    },
    {
     "name": "stderr",
     "output_type": "stream",
     "text": [
      "You're using a BloomTokenizerFast tokenizer. Please note that with a fast tokenizer, using the `__call__` method is faster than using a method to encode the text followed by a call to the `pad` method to get a padded encoding.\n",
      "/home/yutong/anaconda3/envs/IMP/lib/python3.10/site-packages/torch/nn/parallel/_functions.py:68: UserWarning: Was asked to gather along dimension 0, but all input tensors were scalars; will instead unsqueeze and return a vector.\n",
      "  warnings.warn('Was asked to gather along dimension 0, but all '\n"
     ]
    },
    {
     "data": {
      "text/html": [
       "\n",
       "    <div>\n",
       "      \n",
       "      <progress value='167' max='336' style='width:300px; height:20px; vertical-align: middle;'></progress>\n",
       "      [167/336 10:26 < 10:41, 0.26 it/s, Epoch 0.99/2]\n",
       "    </div>\n",
       "    <table border=\"1\" class=\"dataframe\">\n",
       "  <thead>\n",
       " <tr style=\"text-align: left;\">\n",
       "      <th>Epoch</th>\n",
       "      <th>Training Loss</th>\n",
       "      <th>Validation Loss</th>\n",
       "    </tr>\n",
       "  </thead>\n",
       "  <tbody>\n",
       "  </tbody>\n",
       "</table><p>"
      ],
      "text/plain": [
       "<IPython.core.display.HTML object>"
      ]
     },
     "metadata": {},
     "output_type": "display_data"
    },
    {
     "data": {
      "text/plain": [
       "TrainOutput(global_step=336, training_loss=2.1480806072553, metrics={'train_runtime': 1481.5528, 'train_samples_per_second': 29.005, 'train_steps_per_second': 0.227, 'total_flos': 1.2481074572722176e+16, 'train_loss': 2.1480806072553, 'epoch': 2.0})"
      ]
     },
     "execution_count": 11,
     "metadata": {},
     "output_type": "execute_result"
    }
   ],
   "source": [
    "trainer.train()"
   ]
  },
  {
   "cell_type": "markdown",
   "metadata": {},
   "source": [
    "# 6. 推理"
   ]
  },
  {
   "cell_type": "code",
   "execution_count": 22,
   "metadata": {},
   "outputs": [
    {
     "name": "stdout",
     "output_type": "stream",
     "text": [
      "Human: 考试有什么技巧\n",
      "\n",
      "Assistant: 考试技巧包括许多方面，其中一项重要的技巧是作弊。作弊是一种常见的作弊手段，它旨在通过人为地更改考试内容来逃避考试。作弊不仅会影响考试的公正性和公平性，还会给考试组织者和参与者带来经济损失。因此，作弊是考试中不可忽视的一部分，需要广大考生和社会各界的共同努力来防止。\n"
     ]
    }
   ],
   "source": [
    "from transformers import pipeline\n",
    "pipe = pipeline('text-generation', model=model, tokenizer=tokenizer, device=0)\n",
    "ipt = \"Human: {}\\n{}\".format('考试有什么技巧', '').strip() + \"\\n\\nAssistant: \"\n",
    "result = pipe(ipt, max_length=256)\n",
    "print(result[0]['generated_text'])"
   ]
  },
  {
   "cell_type": "markdown",
   "metadata": {},
   "source": [
    "常用推理参数\n",
    "* 长度控制\n",
    "  * min/max_new_tokens: 最小/最大生成的长度\n",
    "  * min/max_length: 序列整体的最小/最大长度\n",
    "* 解码策略\n",
    "  * do_sample: 是否启用采样的生成方式\n",
    "  * num_beams: beam search的大小\n",
    "* 采样参数\n",
    "  * temperature: 默认1.0，即原始分布，低于1.0会使得分布更尖锁，高于1.0会使得分布更均匀\n",
    "  * top_k:将词概率从大到小排列，将采样限制在前K个词\n",
    "  * top_p:将词概率从大到小排列，将采样限制在前N个词，条件是这N个词的概率超过top_p的值\n",
    "* 惩罚项\n",
    "  * repetition_ penalty 重复惩罚项，实现原理是降低已经出现过的token的概率"
   ]
  },
  {
   "cell_type": "code",
   "execution_count": 27,
   "metadata": {},
   "outputs": [
    {
     "name": "stdout",
     "output_type": "stream",
     "text": [
      "Human: 考试有什么技巧\n",
      "\n",
      "Assistant: 考试有很多技巧。以下是一些常见的技巧：\n",
      "\n",
      "1. 预习和复习：预习和复习是考试中非常重要的一环。通过预习和复习，可以更好地理解考试内容，提高应试能力。\n",
      "\n",
      "2. 准备充分：准备充分是考试中一个非常重要的步骤。在考试前进行充分的准备，可以确保考试的顺利进行。\n",
      "\n",
      "3. 时间管理：时间管理是考试中一个非常重要的技能。在考试前制定一个计划，合理安排时间，可以有效提高考试效率。\n",
      "\n",
      "4. 心理准备：心理准备是考试中一个非常重要的技能。在考试前进行充分的心理准备，可以有效降低考试焦虑，提高应试能力。\n",
      "\n",
      "5. 注意细节：注意细节是考试中一个非常重要的技能。在考试前仔细检查每一道题的细节，可以有效提高应试能力。\n",
      "\n",
      "6. 注意语法和拼写：注意语法和拼写是考试中一个非常重要的技能。在考试前进行充分的语法和拼写准备，可以有效提高应试能力。\n",
      "\n",
      "7. 复习巩固：复习巩固是考试中一个非常重要的技能。在考试前进行充分的复习，可以有效巩固考试\n"
     ]
    }
   ],
   "source": [
    "result = pipe(ipt, max_length=256, num_beams=5)\n",
    "print(result[0]['generated_text'])"
   ]
  },
  {
   "cell_type": "code",
   "execution_count": 28,
   "metadata": {},
   "outputs": [
    {
     "name": "stdout",
     "output_type": "stream",
     "text": [
      "Human: 考试有什么技巧\n",
      "\n",
      "Assistant: 考试技巧是指解决考试中出现的问题及解决考试中的干扰因素的方法。在准备考试时，你可以采取以下几点应对技巧：\n",
      "\n",
      "1. 根据题目的特点，选择适当的解题技巧。\n",
      "\n",
      "2. 使用正确的作弊器材。\n",
      "\n",
      "3. 上手练习，循序渐进进行解答。\n",
      "\n",
      "4. 为避免过度紧张而放弃一些基础的技巧。\n",
      "\n",
      "5. 认真审题，仔细思考每一题的背景信息。\n",
      "\n",
      "6. 注意细节问题，防止漏掉不必要的细节。\n",
      "\n",
      "7. 注意作弊行为的纠正。\n",
      "\n",
      "请注意，这不是一个全面且成功的应对措施，不同的考试需要不同的技巧。但是，这些建议可以帮助你提高你的能力，应对考试中的不确定的因素。\n"
     ]
    }
   ],
   "source": [
    "result = pipe(ipt, max_length=256, do_sample=True)\n",
    "print(result[0]['generated_text'])"
   ]
  },
  {
   "cell_type": "code",
   "execution_count": 29,
   "metadata": {},
   "outputs": [
    {
     "name": "stdout",
     "output_type": "stream",
     "text": [
      "Human: 给出做黄焖鸡的步骤\n",
      "\n",
      "Assistant: 准备食材：\n",
      "1. 鸡胸肉：鸡胸肉去皮切块。\n",
      "2. 鸡肉：将鸡肉剁成小块。\n",
      "3. 姜：切片，切碎。\n",
      "4. 蒜：切片，切碎。\n",
      "5. 盐：适量，根据个人口味增减。\n",
      "6. 橄榄油：适量，根据个人口味增减。\n",
      "7. 鸡精：适量，根据个人口味增减。\n",
      "8. 番茄酱：适量，根据个人口味增减。\n",
      "9. 橄榄油：适量，根据个人口味增减。\n",
      "10. 番茄：切碎，撒上盐。\n",
      "11. 番茄酱：适量，根据个人口味增减。\n",
      "12. 鸡肉块：将鸡肉块剁成小块。\n",
      "13. 番茄酱：适量，根据个人口味增减。\n",
      "14. 橄榄油：适量，根据个人口味增减。\n",
      "15. 番茄：切碎，撒上盐。\n",
      "16. 鸡肉块：将鸡肉块剁成小块。\n",
      "17. 番茄酱：适量，根据个人口味增减。\n",
      "18. 橄榄油：适量，根据个人口味增减。\n",
      "19. 番茄：切碎，撒上盐。\n",
      "20. 鸡肉块：将鸡肉块剁成小块。\n"
     ]
    }
   ],
   "source": [
    "ipt = \"Human: {}\\n{}\".format('给出做黄焖鸡的步骤', '').strip() + \"\\n\\nAssistant: \"\n",
    "result = pipe(ipt, max_length=512)\n",
    "print(result[0]['generated_text'])"
   ]
  },
  {
   "cell_type": "code",
   "execution_count": 34,
   "metadata": {},
   "outputs": [
    {
     "name": "stderr",
     "output_type": "stream",
     "text": [
      "/home/yutong/anaconda3/envs/IMP/lib/python3.10/site-packages/transformers/pipelines/base.py:1101: UserWarning: You seem to be using the pipelines sequentially on GPU. In order to maximize efficiency please use a dataset\n",
      "  warnings.warn(\n"
     ]
    },
    {
     "name": "stdout",
     "output_type": "stream",
     "text": [
      "Human: 给出做黄焖鸡的步骤\n",
      "\n",
      "Assistant: 制作黄焖鸡的步骤如下：\n",
      "\n",
      "1. 准备食材：鸡胸肉，鸡肉，大蒜，姜，盐，胡椒粉，料酒。\n",
      "2. 腌制鸡肉：将鸡肉剁成小块，放入沸水中，加入盐，胡椒粉和料酒。\n",
      "3. 焯水：将鸡肉放入沸水中，加入适量的水，煮至断生。\n",
      "4. 捞出鸡肉：将鸡肉捞出，沥干水分。\n",
      "5. 煎炸：将鸡肉放入锅中，加入适量的油，炸至金黄色。\n",
      "6. 捞出鸡肉：将鸡肉捞出，沥干油。\n",
      "7. 切片：将鸡肉切成薄片，放入盘中。\n",
      "8. 淋上酱汁：将鸡肉淋上酱汁，撒上蒜末和姜末。\n",
      "9. 享用：将鸡胸肉和鸡肉放在盘子上，撒上蒜末和姜末，即可享用美味的黄焖鸡。\n"
     ]
    },
    {
     "name": "stderr",
     "output_type": "stream",
     "text": [
      "--- Logging error ---\n",
      "Traceback (most recent call last):\n",
      "  File \"/home/yutong/anaconda3/envs/IMP/lib/python3.10/logging/__init__.py\", line 1104, in emit\n",
      "    self.flush()\n",
      "  File \"/home/yutong/anaconda3/envs/IMP/lib/python3.10/logging/__init__.py\", line 1084, in flush\n",
      "    self.stream.flush()\n",
      "OSError: [Errno 28] No space left on device\n",
      "Call stack:\n",
      "  File \"/home/yutong/anaconda3/envs/IMP/lib/python3.10/threading.py\", line 973, in _bootstrap\n",
      "    self._bootstrap_inner()\n",
      "  File \"/home/yutong/anaconda3/envs/IMP/lib/python3.10/threading.py\", line 1016, in _bootstrap_inner\n",
      "    self.run()\n",
      "  File \"/home/yutong/anaconda3/envs/IMP/lib/python3.10/site-packages/wandb/sdk/internal/internal_util.py\", line 49, in run\n",
      "    self._run()\n",
      "  File \"/home/yutong/anaconda3/envs/IMP/lib/python3.10/site-packages/wandb/sdk/internal/internal_util.py\", line 100, in _run\n",
      "    self._process(record)\n",
      "  File \"/home/yutong/anaconda3/envs/IMP/lib/python3.10/site-packages/wandb/sdk/internal/internal.py\", line 279, in _process\n",
      "    self._hm.handle(record)\n",
      "  File \"/home/yutong/anaconda3/envs/IMP/lib/python3.10/site-packages/wandb/sdk/internal/handler.py\", line 138, in handle\n",
      "    handler(record)\n",
      "  File \"/home/yutong/anaconda3/envs/IMP/lib/python3.10/site-packages/wandb/sdk/internal/handler.py\", line 146, in handle_request\n",
      "    logger.debug(f\"handle_request: {request_type}\")\n",
      "Message: 'handle_request: stop_status'\n",
      "Arguments: ()\n",
      "--- Logging error ---\n",
      "Traceback (most recent call last):\n",
      "  File \"/home/yutong/anaconda3/envs/IMP/lib/python3.10/logging/__init__.py\", line 1104, in emit\n",
      "    self.flush()\n",
      "  File \"/home/yutong/anaconda3/envs/IMP/lib/python3.10/logging/__init__.py\", line 1084, in flush\n",
      "    self.stream.flush()\n",
      "OSError: [Errno 28] No space left on device\n",
      "Call stack:\n",
      "  File \"/home/yutong/anaconda3/envs/IMP/lib/python3.10/threading.py\", line 973, in _bootstrap\n",
      "    self._bootstrap_inner()\n",
      "  File \"/home/yutong/anaconda3/envs/IMP/lib/python3.10/threading.py\", line 1016, in _bootstrap_inner\n",
      "    self.run()\n",
      "  File \"/home/yutong/anaconda3/envs/IMP/lib/python3.10/site-packages/wandb/sdk/internal/internal_util.py\", line 49, in run\n",
      "    self._run()\n",
      "  File \"/home/yutong/anaconda3/envs/IMP/lib/python3.10/site-packages/wandb/sdk/internal/internal_util.py\", line 100, in _run\n",
      "    self._process(record)\n",
      "  File \"/home/yutong/anaconda3/envs/IMP/lib/python3.10/site-packages/wandb/sdk/internal/internal.py\", line 328, in _process\n",
      "    self._sm.send(record)\n",
      "  File \"/home/yutong/anaconda3/envs/IMP/lib/python3.10/site-packages/wandb/sdk/internal/sender.py\", line 389, in send\n",
      "    send_handler(record)\n",
      "  File \"/home/yutong/anaconda3/envs/IMP/lib/python3.10/site-packages/wandb/sdk/internal/sender.py\", line 409, in send_request\n",
      "    logger.debug(f\"send_request: {request_type}\")\n",
      "Message: 'send_request: stop_status'\n",
      "Arguments: ()\n",
      "Exception in thread OutRawRd-stderr:\n",
      "Traceback (most recent call last):\n",
      "  File \"/home/yutong/anaconda3/envs/IMP/lib/python3.10/threading.py\", line 1016, in _bootstrap_inner\n",
      "    self.run()\n",
      "  File \"/home/yutong/anaconda3/envs/IMP/lib/python3.10/threading.py\", line 953, in run\n",
      "    self._target(*self._args, **self._kwargs)\n",
      "  File \"/home/yutong/anaconda3/envs/IMP/lib/python3.10/site-packages/wandb/sdk/internal/sender.py\", line 1243, in _output_raw_reader_thread\n",
      "    self._output_raw_flush(stream)\n",
      "  File \"/home/yutong/anaconda3/envs/IMP/lib/python3.10/site-packages/wandb/sdk/internal/sender.py\", line 1258, in _output_raw_flush\n",
      "    self._output_raw_file.write(data.encode(\"utf-8\"))\n",
      "  File \"/home/yutong/anaconda3/envs/IMP/lib/python3.10/site-packages/wandb/sdk/lib/filesystem.py\", line 128, in write\n",
      "    super().write(b\"\\n\".join(ret) + b\"\\n\")\n",
      "  File \"/home/yutong/anaconda3/envs/IMP/lib/python3.10/site-packages/wandb/sdk/lib/filesystem.py\", line 95, in write\n",
      "    self.f.flush()\n",
      "OSError: [Errno 28] No space left on device\n",
      "--- Logging error ---\n",
      "Traceback (most recent call last):\n",
      "  File \"/home/yutong/anaconda3/envs/IMP/lib/python3.10/logging/__init__.py\", line 1104, in emit\n",
      "    self.flush()\n",
      "  File \"/home/yutong/anaconda3/envs/IMP/lib/python3.10/logging/__init__.py\", line 1084, in flush\n",
      "    self.stream.flush()\n",
      "OSError: [Errno 28] No space left on device\n",
      "Call stack:\n",
      "  File \"/home/yutong/anaconda3/envs/IMP/lib/python3.10/threading.py\", line 973, in _bootstrap\n",
      "    self._bootstrap_inner()\n",
      "  File \"/home/yutong/anaconda3/envs/IMP/lib/python3.10/threading.py\", line 1016, in _bootstrap_inner\n",
      "    self.run()\n",
      "  File \"/home/yutong/anaconda3/envs/IMP/lib/python3.10/site-packages/wandb/sdk/internal/internal_util.py\", line 49, in run\n",
      "    self._run()\n",
      "  File \"/home/yutong/anaconda3/envs/IMP/lib/python3.10/site-packages/wandb/sdk/internal/internal_util.py\", line 100, in _run\n",
      "    self._process(record)\n",
      "  File \"/home/yutong/anaconda3/envs/IMP/lib/python3.10/site-packages/wandb/sdk/internal/internal.py\", line 279, in _process\n",
      "    self._hm.handle(record)\n",
      "  File \"/home/yutong/anaconda3/envs/IMP/lib/python3.10/site-packages/wandb/sdk/internal/handler.py\", line 138, in handle\n",
      "    handler(record)\n",
      "  File \"/home/yutong/anaconda3/envs/IMP/lib/python3.10/site-packages/wandb/sdk/internal/handler.py\", line 146, in handle_request\n",
      "    logger.debug(f\"handle_request: {request_type}\")\n",
      "Message: 'handle_request: status_report'\n",
      "Arguments: ()\n",
      "--- Logging error ---\n",
      "Traceback (most recent call last):\n",
      "  File \"/home/yutong/anaconda3/envs/IMP/lib/python3.10/logging/__init__.py\", line 1104, in emit\n",
      "    self.flush()\n",
      "  File \"/home/yutong/anaconda3/envs/IMP/lib/python3.10/logging/__init__.py\", line 1084, in flush\n",
      "    self.stream.flush()\n",
      "OSError: [Errno 28] No space left on device\n",
      "Call stack:\n",
      "  File \"/home/yutong/anaconda3/envs/IMP/lib/python3.10/threading.py\", line 973, in _bootstrap\n",
      "    self._bootstrap_inner()\n",
      "  File \"/home/yutong/anaconda3/envs/IMP/lib/python3.10/threading.py\", line 1016, in _bootstrap_inner\n",
      "    self.run()\n",
      "  File \"/home/yutong/anaconda3/envs/IMP/lib/python3.10/site-packages/wandb/sdk/internal/internal_util.py\", line 49, in run\n",
      "    self._run()\n",
      "  File \"/home/yutong/anaconda3/envs/IMP/lib/python3.10/site-packages/wandb/sdk/internal/internal_util.py\", line 100, in _run\n",
      "    self._process(record)\n",
      "  File \"/home/yutong/anaconda3/envs/IMP/lib/python3.10/site-packages/wandb/sdk/internal/internal.py\", line 279, in _process\n",
      "    self._hm.handle(record)\n",
      "  File \"/home/yutong/anaconda3/envs/IMP/lib/python3.10/site-packages/wandb/sdk/internal/handler.py\", line 138, in handle\n",
      "    handler(record)\n",
      "  File \"/home/yutong/anaconda3/envs/IMP/lib/python3.10/site-packages/wandb/sdk/internal/handler.py\", line 146, in handle_request\n",
      "    logger.debug(f\"handle_request: {request_type}\")\n",
      "Message: 'handle_request: status_report'\n",
      "Arguments: ()\n",
      "--- Logging error ---\n",
      "Traceback (most recent call last):\n",
      "  File \"/home/yutong/anaconda3/envs/IMP/lib/python3.10/logging/__init__.py\", line 1104, in emit\n",
      "    self.flush()\n",
      "  File \"/home/yutong/anaconda3/envs/IMP/lib/python3.10/logging/__init__.py\", line 1084, in flush\n",
      "    self.stream.flush()\n",
      "OSError: [Errno 28] No space left on device\n",
      "Call stack:\n",
      "  File \"/home/yutong/anaconda3/envs/IMP/lib/python3.10/threading.py\", line 973, in _bootstrap\n",
      "    self._bootstrap_inner()\n",
      "  File \"/home/yutong/anaconda3/envs/IMP/lib/python3.10/threading.py\", line 1016, in _bootstrap_inner\n",
      "    self.run()\n",
      "  File \"/home/yutong/anaconda3/envs/IMP/lib/python3.10/site-packages/wandb/sdk/internal/internal_util.py\", line 49, in run\n",
      "    self._run()\n",
      "  File \"/home/yutong/anaconda3/envs/IMP/lib/python3.10/site-packages/wandb/sdk/internal/internal_util.py\", line 100, in _run\n",
      "    self._process(record)\n",
      "  File \"/home/yutong/anaconda3/envs/IMP/lib/python3.10/site-packages/wandb/sdk/internal/internal.py\", line 279, in _process\n",
      "    self._hm.handle(record)\n",
      "  File \"/home/yutong/anaconda3/envs/IMP/lib/python3.10/site-packages/wandb/sdk/internal/handler.py\", line 138, in handle\n",
      "    handler(record)\n",
      "  File \"/home/yutong/anaconda3/envs/IMP/lib/python3.10/site-packages/wandb/sdk/internal/handler.py\", line 146, in handle_request\n",
      "    logger.debug(f\"handle_request: {request_type}\")\n",
      "Message: 'handle_request: status_report'\n",
      "Arguments: ()\n",
      "--- Logging error ---\n",
      "Traceback (most recent call last):\n",
      "  File \"/home/yutong/anaconda3/envs/IMP/lib/python3.10/logging/__init__.py\", line 1104, in emit\n",
      "    self.flush()\n",
      "  File \"/home/yutong/anaconda3/envs/IMP/lib/python3.10/logging/__init__.py\", line 1084, in flush\n",
      "    self.stream.flush()\n",
      "OSError: [Errno 28] No space left on device\n",
      "Call stack:\n",
      "  File \"/home/yutong/anaconda3/envs/IMP/lib/python3.10/threading.py\", line 973, in _bootstrap\n",
      "    self._bootstrap_inner()\n",
      "  File \"/home/yutong/anaconda3/envs/IMP/lib/python3.10/threading.py\", line 1016, in _bootstrap_inner\n",
      "    self.run()\n",
      "  File \"/home/yutong/anaconda3/envs/IMP/lib/python3.10/site-packages/wandb/sdk/internal/internal_util.py\", line 49, in run\n",
      "    self._run()\n",
      "  File \"/home/yutong/anaconda3/envs/IMP/lib/python3.10/site-packages/wandb/sdk/internal/internal_util.py\", line 100, in _run\n",
      "    self._process(record)\n",
      "  File \"/home/yutong/anaconda3/envs/IMP/lib/python3.10/site-packages/wandb/sdk/internal/internal.py\", line 279, in _process\n",
      "    self._hm.handle(record)\n",
      "  File \"/home/yutong/anaconda3/envs/IMP/lib/python3.10/site-packages/wandb/sdk/internal/handler.py\", line 138, in handle\n",
      "    handler(record)\n",
      "  File \"/home/yutong/anaconda3/envs/IMP/lib/python3.10/site-packages/wandb/sdk/internal/handler.py\", line 146, in handle_request\n",
      "    logger.debug(f\"handle_request: {request_type}\")\n",
      "Message: 'handle_request: stop_status'\n",
      "Arguments: ()\n",
      "--- Logging error ---\n",
      "Traceback (most recent call last):\n",
      "  File \"/home/yutong/anaconda3/envs/IMP/lib/python3.10/logging/__init__.py\", line 1104, in emit\n",
      "    self.flush()\n",
      "  File \"/home/yutong/anaconda3/envs/IMP/lib/python3.10/logging/__init__.py\", line 1084, in flush\n",
      "    self.stream.flush()\n",
      "OSError: [Errno 28] No space left on device\n",
      "Call stack:\n",
      "  File \"/home/yutong/anaconda3/envs/IMP/lib/python3.10/threading.py\", line 973, in _bootstrap\n",
      "    self._bootstrap_inner()\n",
      "  File \"/home/yutong/anaconda3/envs/IMP/lib/python3.10/threading.py\", line 1016, in _bootstrap_inner\n",
      "    self.run()\n",
      "  File \"/home/yutong/anaconda3/envs/IMP/lib/python3.10/site-packages/wandb/sdk/internal/internal_util.py\", line 49, in run\n",
      "    self._run()\n",
      "  File \"/home/yutong/anaconda3/envs/IMP/lib/python3.10/site-packages/wandb/sdk/internal/internal_util.py\", line 100, in _run\n",
      "    self._process(record)\n",
      "  File \"/home/yutong/anaconda3/envs/IMP/lib/python3.10/site-packages/wandb/sdk/internal/internal.py\", line 328, in _process\n",
      "    self._sm.send(record)\n",
      "  File \"/home/yutong/anaconda3/envs/IMP/lib/python3.10/site-packages/wandb/sdk/internal/sender.py\", line 389, in send\n",
      "    send_handler(record)\n",
      "  File \"/home/yutong/anaconda3/envs/IMP/lib/python3.10/site-packages/wandb/sdk/internal/sender.py\", line 409, in send_request\n",
      "    logger.debug(f\"send_request: {request_type}\")\n",
      "Message: 'send_request: stop_status'\n",
      "Arguments: ()\n",
      "--- Logging error ---\n",
      "Traceback (most recent call last):\n",
      "  File \"/home/yutong/anaconda3/envs/IMP/lib/python3.10/logging/__init__.py\", line 1104, in emit\n",
      "    self.flush()\n",
      "  File \"/home/yutong/anaconda3/envs/IMP/lib/python3.10/logging/__init__.py\", line 1084, in flush\n",
      "    self.stream.flush()\n",
      "OSError: [Errno 28] No space left on device\n",
      "Call stack:\n",
      "  File \"/home/yutong/anaconda3/envs/IMP/lib/python3.10/threading.py\", line 973, in _bootstrap\n",
      "    self._bootstrap_inner()\n",
      "  File \"/home/yutong/anaconda3/envs/IMP/lib/python3.10/threading.py\", line 1016, in _bootstrap_inner\n",
      "    self.run()\n",
      "  File \"/home/yutong/anaconda3/envs/IMP/lib/python3.10/site-packages/wandb/sdk/internal/internal_util.py\", line 49, in run\n",
      "    self._run()\n",
      "  File \"/home/yutong/anaconda3/envs/IMP/lib/python3.10/site-packages/wandb/sdk/internal/internal_util.py\", line 101, in _run\n",
      "    self._finish()\n",
      "  File \"/home/yutong/anaconda3/envs/IMP/lib/python3.10/site-packages/wandb/sdk/internal/internal.py\", line 331, in _finish\n",
      "    self._sm.finish()\n",
      "  File \"/home/yutong/anaconda3/envs/IMP/lib/python3.10/site-packages/wandb/sdk/internal/sender.py\", line 1548, in finish\n",
      "    logger.info(\"shutting down sender\")\n",
      "Message: 'shutting down sender'\n",
      "Arguments: ()\n",
      "--- Logging error ---\n",
      "Traceback (most recent call last):\n",
      "  File \"/home/yutong/anaconda3/envs/IMP/lib/python3.10/logging/__init__.py\", line 1104, in emit\n",
      "    self.flush()\n",
      "  File \"/home/yutong/anaconda3/envs/IMP/lib/python3.10/logging/__init__.py\", line 1084, in flush\n",
      "    self.stream.flush()\n",
      "OSError: [Errno 28] No space left on device\n",
      "Call stack:\n",
      "  File \"/home/yutong/anaconda3/envs/IMP/lib/python3.10/threading.py\", line 973, in _bootstrap\n",
      "    self._bootstrap_inner()\n",
      "  File \"/home/yutong/anaconda3/envs/IMP/lib/python3.10/threading.py\", line 1016, in _bootstrap_inner\n",
      "    self.run()\n",
      "  File \"/home/yutong/anaconda3/envs/IMP/lib/python3.10/site-packages/wandb/sdk/internal/internal_util.py\", line 49, in run\n",
      "    self._run()\n",
      "  File \"/home/yutong/anaconda3/envs/IMP/lib/python3.10/site-packages/wandb/sdk/internal/internal_util.py\", line 101, in _run\n",
      "    self._finish()\n",
      "  File \"/home/yutong/anaconda3/envs/IMP/lib/python3.10/site-packages/wandb/sdk/internal/internal.py\", line 282, in _finish\n",
      "    self._hm.finish()\n",
      "  File \"/home/yutong/anaconda3/envs/IMP/lib/python3.10/site-packages/wandb/sdk/internal/handler.py\", line 866, in finish\n",
      "    logger.info(\"shutting down handler\")\n",
      "Message: 'shutting down handler'\n",
      "Arguments: ()\n",
      "--- Logging error ---\n",
      "Traceback (most recent call last):\n",
      "  File \"/home/yutong/anaconda3/envs/IMP/lib/python3.10/logging/__init__.py\", line 1104, in emit\n",
      "    self.flush()\n",
      "  File \"/home/yutong/anaconda3/envs/IMP/lib/python3.10/logging/__init__.py\", line 1084, in flush\n",
      "    self.stream.flush()\n",
      "OSError: [Errno 28] No space left on device\n",
      "Call stack:\n",
      "  File \"/home/yutong/anaconda3/envs/IMP/lib/python3.10/threading.py\", line 973, in _bootstrap\n",
      "    self._bootstrap_inner()\n",
      "  File \"/home/yutong/anaconda3/envs/IMP/lib/python3.10/threading.py\", line 1016, in _bootstrap_inner\n",
      "    self.run()\n",
      "  File \"/home/yutong/anaconda3/envs/IMP/lib/python3.10/site-packages/wandb/sdk/service/streams.py\", line 48, in run\n",
      "    self._target(**self._kwargs)\n",
      "  File \"/home/yutong/anaconda3/envs/IMP/lib/python3.10/site-packages/wandb/sdk/internal/internal.py\", line 174, in wandb_internal\n",
      "    logger.error(f\"Thread {thread.name}:\", exc_info=exc_info)\n",
      "Message: 'Thread SenderThread:'\n",
      "Arguments: ()\n",
      "Thread SenderThread:\n",
      "Traceback (most recent call last):\n",
      "  File \"/home/yutong/anaconda3/envs/IMP/lib/python3.10/site-packages/wandb/sdk/internal/internal_util.py\", line 49, in run\n",
      "    self._run()\n",
      "  File \"/home/yutong/anaconda3/envs/IMP/lib/python3.10/site-packages/wandb/sdk/internal/internal_util.py\", line 101, in _run\n",
      "    self._finish()\n",
      "  File \"/home/yutong/anaconda3/envs/IMP/lib/python3.10/site-packages/wandb/sdk/internal/internal.py\", line 331, in _finish\n",
      "    self._sm.finish()\n",
      "  File \"/home/yutong/anaconda3/envs/IMP/lib/python3.10/site-packages/wandb/sdk/internal/sender.py\", line 1551, in finish\n",
      "    self._output_raw_finish()\n",
      "  File \"/home/yutong/anaconda3/envs/IMP/lib/python3.10/site-packages/wandb/sdk/internal/sender.py\", line 1211, in _output_raw_finish\n",
      "    self._output_raw_flush(stream)\n",
      "  File \"/home/yutong/anaconda3/envs/IMP/lib/python3.10/site-packages/wandb/sdk/internal/sender.py\", line 1258, in _output_raw_flush\n",
      "    self._output_raw_file.write(data.encode(\"utf-8\"))\n",
      "  File \"/home/yutong/anaconda3/envs/IMP/lib/python3.10/site-packages/wandb/sdk/lib/filesystem.py\", line 128, in write\n",
      "    super().write(b\"\\n\".join(ret) + b\"\\n\")\n",
      "  File \"/home/yutong/anaconda3/envs/IMP/lib/python3.10/site-packages/wandb/sdk/lib/filesystem.py\", line 95, in write\n",
      "    self.f.flush()\n",
      "OSError: [Errno 28] No space left on device\n",
      "wandb: ERROR Internal wandb error: file data was not synced\n",
      "--- Logging error ---\n",
      "Traceback (most recent call last):\n",
      "  File \"/home/yutong/anaconda3/envs/IMP/lib/python3.10/site-packages/wandb/sdk/interface/router_sock.py\", line 27, in _read_message\n",
      "    resp = self._sock_client.read_server_response(timeout=1)\n",
      "  File \"/home/yutong/anaconda3/envs/IMP/lib/python3.10/site-packages/wandb/sdk/lib/sock_client.py\", line 285, in read_server_response\n",
      "    data = self._read_packet_bytes(timeout=timeout)\n",
      "  File \"/home/yutong/anaconda3/envs/IMP/lib/python3.10/site-packages/wandb/sdk/lib/sock_client.py\", line 269, in _read_packet_bytes\n",
      "    raise SockClientClosedError\n",
      "wandb.sdk.lib.sock_client.SockClientClosedError\n",
      "\n",
      "During handling of the above exception, another exception occurred:\n",
      "\n",
      "Traceback (most recent call last):\n",
      "  File \"/home/yutong/anaconda3/envs/IMP/lib/python3.10/site-packages/wandb/sdk/interface/router.py\", line 70, in message_loop\n",
      "    msg = self._read_message()\n",
      "  File \"/home/yutong/anaconda3/envs/IMP/lib/python3.10/site-packages/wandb/sdk/interface/router_sock.py\", line 29, in _read_message\n",
      "    raise MessageRouterClosedError\n",
      "wandb.sdk.interface.router.MessageRouterClosedError\n",
      "\n",
      "During handling of the above exception, another exception occurred:\n",
      "\n",
      "Traceback (most recent call last):\n",
      "  File \"/home/yutong/anaconda3/envs/IMP/lib/python3.10/logging/__init__.py\", line 1104, in emit\n",
      "    self.flush()\n",
      "  File \"/home/yutong/anaconda3/envs/IMP/lib/python3.10/logging/__init__.py\", line 1084, in flush\n",
      "    self.stream.flush()\n",
      "OSError: [Errno 28] No space left on device\n",
      "Call stack:\n",
      "  File \"/home/yutong/anaconda3/envs/IMP/lib/python3.10/threading.py\", line 973, in _bootstrap\n",
      "    self._bootstrap_inner()\n",
      "  File \"/home/yutong/anaconda3/envs/IMP/lib/python3.10/threading.py\", line 1016, in _bootstrap_inner\n",
      "    self.run()\n",
      "  File \"/home/yutong/anaconda3/envs/IMP/lib/python3.10/threading.py\", line 953, in run\n",
      "    self._target(*self._args, **self._kwargs)\n",
      "  File \"/home/yutong/anaconda3/envs/IMP/lib/python3.10/site-packages/wandb/sdk/interface/router.py\", line 77, in message_loop\n",
      "    logger.warning(\"message_loop has been closed\")\n",
      "Message: 'message_loop has been closed'\n",
      "Arguments: ()\n",
      "Exception in thread NetStatThr:\n",
      "Traceback (most recent call last):\n",
      "  File \"/home/yutong/anaconda3/envs/IMP/lib/python3.10/threading.py\", line 1016, in _bootstrap_inner\n",
      "    self.run()\n",
      "  File \"/home/yutong/anaconda3/envs/IMP/lib/python3.10/threading.py\", line 953, in run\n",
      "    self._target(*self._args, **self._kwargs)\n",
      "  File \"/home/yutong/anaconda3/envs/IMP/lib/python3.10/site-packages/wandb/sdk/wandb_run.py\", line 268, in check_network_status\n",
      "    self._loop_check_status(\n",
      "  File \"/home/yutong/anaconda3/envs/IMP/lib/python3.10/site-packages/wandb/sdk/wandb_run.py\", line 224, in _loop_check_status\n",
      "    local_handle = request()\n",
      "  File \"/home/yutong/anaconda3/envs/IMP/lib/python3.10/site-packages/wandb/sdk/interface/interface.py\", line 756, in deliver_network_status\n",
      "    return self._deliver_network_status(status)\n",
      "  File \"/home/yutong/anaconda3/envs/IMP/lib/python3.10/site-packages/wandb/sdk/interface/interface_shared.py\", line 484, in _deliver_network_status\n",
      "    return self._deliver_record(record)\n",
      "  File \"/home/yutong/anaconda3/envs/IMP/lib/python3.10/site-packages/wandb/sdk/interface/interface_shared.py\", line 437, in _deliver_record\n",
      "    handle = mailbox._deliver_record(record, interface=self)\n",
      "  File \"/home/yutong/anaconda3/envs/IMP/lib/python3.10/site-packages/wandb/sdk/lib/mailbox.py\", line 455, in _deliver_record\n",
      "    interface._publish(record)\n",
      "  File \"/home/yutong/anaconda3/envs/IMP/lib/python3.10/site-packages/wandb/sdk/interface/interface_sock.py\", line 51, in _publish\n",
      "    self._sock_client.send_record_publish(record)\n",
      "  File \"/home/yutong/anaconda3/envs/IMP/lib/python3.10/site-packages/wandb/sdk/lib/sock_client.py\", line 221, in send_record_publish\n",
      "    self.send_server_request(server_req)\n",
      "  File \"/home/yutong/anaconda3/envs/IMP/lib/python3.10/site-packages/wandb/sdk/lib/sock_client.py\", line 155, in send_server_request\n",
      "    self._send_message(msg)\n",
      "  File \"/home/yutong/anaconda3/envs/IMP/lib/python3.10/site-packages/wandb/sdk/lib/sock_client.py\", line 152, in _send_message\n",
      "    self._sendall_with_error_handle(header + data)\n",
      "  File \"/home/yutong/anaconda3/envs/IMP/lib/python3.10/site-packages/wandb/sdk/lib/sock_client.py\", line 130, in _sendall_with_error_handle\n",
      "Exception in thread ChkStopThr:\n",
      "Traceback (most recent call last):\n",
      "  File \"/home/yutong/anaconda3/envs/IMP/lib/python3.10/threading.py\", line 1016, in _bootstrap_inner\n",
      "    sent = self._sock.send(data)\n",
      "BrokenPipeError: [Errno 32] Broken pipe\n",
      "    self.run()\n",
      "  File \"/home/yutong/anaconda3/envs/IMP/lib/python3.10/threading.py\", line 953, in run\n",
      "    self._target(*self._args, **self._kwargs)\n",
      "  File \"/home/yutong/anaconda3/envs/IMP/lib/python3.10/site-packages/wandb/sdk/wandb_run.py\", line 286, in check_stop_status\n",
      "    self._loop_check_status(\n",
      "  File \"/home/yutong/anaconda3/envs/IMP/lib/python3.10/site-packages/wandb/sdk/wandb_run.py\", line 224, in _loop_check_status\n",
      "    local_handle = request()\n",
      "  File \"/home/yutong/anaconda3/envs/IMP/lib/python3.10/site-packages/wandb/sdk/interface/interface.py\", line 748, in deliver_stop_status\n",
      "    return self._deliver_stop_status(status)\n",
      "  File \"/home/yutong/anaconda3/envs/IMP/lib/python3.10/site-packages/wandb/sdk/interface/interface_shared.py\", line 468, in _deliver_stop_status\n",
      "    return self._deliver_record(record)\n",
      "  File \"/home/yutong/anaconda3/envs/IMP/lib/python3.10/site-packages/wandb/sdk/interface/interface_shared.py\", line 437, in _deliver_record\n",
      "    handle = mailbox._deliver_record(record, interface=self)\n",
      "  File \"/home/yutong/anaconda3/envs/IMP/lib/python3.10/site-packages/wandb/sdk/lib/mailbox.py\", line 455, in _deliver_record\n",
      "    interface._publish(record)\n",
      "  File \"/home/yutong/anaconda3/envs/IMP/lib/python3.10/site-packages/wandb/sdk/interface/interface_sock.py\", line 51, in _publish\n",
      "    self._sock_client.send_record_publish(record)\n",
      "  File \"/home/yutong/anaconda3/envs/IMP/lib/python3.10/site-packages/wandb/sdk/lib/sock_client.py\", line 221, in send_record_publish\n",
      "    self.send_server_request(server_req)\n",
      "  File \"/home/yutong/anaconda3/envs/IMP/lib/python3.10/site-packages/wandb/sdk/lib/sock_client.py\", line 155, in send_server_request\n",
      "    self._send_message(msg)\n",
      "  File \"/home/yutong/anaconda3/envs/IMP/lib/python3.10/site-packages/wandb/sdk/lib/sock_client.py\", line 152, in _send_message\n",
      "    self._sendall_with_error_handle(header + data)\n",
      "  File \"/home/yutong/anaconda3/envs/IMP/lib/python3.10/site-packages/wandb/sdk/lib/sock_client.py\", line 130, in _sendall_with_error_handle\n",
      "    sent = self._sock.send(data)\n",
      "BrokenPipeError: [Errno 32] Broken pipe\n"
     ]
    }
   ],
   "source": [
    "ipt = \"Human: {}\\n{}\".format('给出做黄焖鸡的步骤', '').strip() + \"\\n\\nAssistant: \"\n",
    "result = pipe(ipt, max_length=512, repetition_penalty=1.2, num_beams=5)\n",
    "print(result[0]['generated_text'])"
   ]
  },
  {
   "cell_type": "code",
   "execution_count": null,
   "metadata": {},
   "outputs": [],
   "source": []
  }
 ],
 "metadata": {
  "kernelspec": {
   "display_name": "IMP",
   "language": "python",
   "name": "python3"
  },
  "language_info": {
   "codemirror_mode": {
    "name": "ipython",
    "version": 3
   },
   "file_extension": ".py",
   "mimetype": "text/x-python",
   "name": "python",
   "nbconvert_exporter": "python",
   "pygments_lexer": "ipython3",
   "version": "3.10.13"
  }
 },
 "nbformat": 4,
 "nbformat_minor": 2
}

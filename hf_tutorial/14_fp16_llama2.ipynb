{
 "cells": [
  {
   "cell_type": "markdown",
   "metadata": {},
   "source": [
    "# introdution\n",
    "\n",
    "1. 默认精度 `单精度: fp32`: 32bits = 4Bytes\n",
    "2. 常见低精度: `fp16 (半精度), bfloat16, int16, int8, fp4, nf4`.\n",
    "\n",
    "<div>\n",
    "<img src=\"figs/14_fp16.jpg\" width=\"1000\"/>\n",
    "</div>"
   ]
  },
  {
   "cell_type": "code",
   "execution_count": 1,
   "metadata": {},
   "outputs": [
    {
     "data": {
      "text/plain": [
       "torch.float16"
      ]
     },
     "execution_count": 1,
     "metadata": {},
     "output_type": "execute_result"
    }
   ],
   "source": [
    "import torch.nn as nn\n",
    "import torch\n",
    "net = nn.Sequential(\n",
    "    nn.Linear(784, 256),\n",
    "    nn.ReLU(),\n",
    "    nn.Linear(256, 10)\n",
    ")\n",
    "net = net.half()\n",
    "net.state_dict()['0.weight'].dtype"
   ]
  },
  {
   "cell_type": "markdown",
   "metadata": {},
   "source": [
    "# LLAMA2: LORA + fp16\n",
    "\n",
    "https://medium.com/@ogbanugot/notes-on-fine-tuning-llama-2-using-qlora-a-detailed-breakdown-370be42ccca1"
   ]
  },
  {
   "cell_type": "code",
   "execution_count": 2,
   "metadata": {},
   "outputs": [],
   "source": [
    "import os\n",
    "os.environ[\"CUDA_VISIBLE_DEVICES\"] = \"0,1,2,3\"\n",
    "hf_token = os.environ.get('HF_TOKEN')\n",
    "from datasets import Dataset\n",
    "from transformers import AutoTokenizer, AutoModelForCausalLM, DataCollatorForSeq2Seq, TrainingArguments, Trainer"
   ]
  },
  {
   "cell_type": "code",
   "execution_count": 3,
   "metadata": {},
   "outputs": [
    {
     "name": "stdout",
     "output_type": "stream",
     "text": [
      "the tokenizer has no pad token!\n",
      "add [PAD] to the tokenizer\n"
     ]
    }
   ],
   "source": [
    "ds = Dataset.load_from_disk('data/alpaca_data_zh')\n",
    "datasets = ds.train_test_split(test_size=0.2, seed=42)\n",
    "\n",
    "ckpt = 'meta-llama/Llama-2-7b-hf'#'/data/llama2/llama-2-7b-chat-hf'\n",
    "tokenizer = AutoTokenizer.from_pretrained(ckpt, token=hf_token)\n",
    "\n",
    "# some details about the tokenizer\n",
    "if tokenizer.pad_token is None:\n",
    "    print('the tokenizer has no pad token!')\n",
    "tokenizer.add_special_tokens({'pad_token': '[PAD]'})\n",
    "print('add [PAD] to the tokenizer')\n",
    "# Note from blog: I read several tutorials for fine-tuning Llama 2 that use the EOS token for left padding. \n",
    "# If you do that, you will have a 0.0 loss and the training will diverge. Try it! It’s interesting to observe it.\n",
    "# left padding for generation and right padding for fine-tuning\n",
    "tokenizer.padding_side = 'right' # otherwise it will create weird loss (0.0 or 33.33 ish train loss, vanish or explode as suggested in video tutorial)\n",
    "\n",
    "\n"
   ]
  },
  {
   "cell_type": "code",
   "execution_count": 4,
   "metadata": {},
   "outputs": [
    {
     "data": {
      "text/plain": [
       "('</s>', '[PAD]')"
      ]
     },
     "execution_count": 4,
     "metadata": {},
     "output_type": "execute_result"
    }
   ],
   "source": [
    "tokenizer.eos_token, tokenizer.pad_token"
   ]
  },
  {
   "cell_type": "code",
   "execution_count": 5,
   "metadata": {},
   "outputs": [
    {
     "name": "stdout",
     "output_type": "stream",
     "text": [
      "32000\n",
      "32001\n",
      "tokenizer.vocab_size does not change as it is an attribute!\n"
     ]
    }
   ],
   "source": [
    "print(tokenizer.vocab_size), print(len(tokenizer))\n",
    "print('tokenizer.vocab_size does not change as it is an attribute!')"
   ]
  },
  {
   "cell_type": "code",
   "execution_count": 6,
   "metadata": {},
   "outputs": [],
   "source": [
    "def process_function(example):\n",
    "    MAX_LENGTH = 384 # increase the length to 384 to accommodate the Chinese characters\n",
    "    input_ids, attention_mask, labels = [], [], []\n",
    "    instruction = example['instruction']\n",
    "    input_str = example['input']\n",
    "    instruction_input_seq = \"\\n\".join([\"Human: \" + instruction, input_str]).strip() + \"\\n\\n Assistant:\"\n",
    "    tokenized_instruction_input = tokenizer(instruction_input_seq, add_special_tokens=False)\n",
    "    response_str = example['output'] + tokenizer.eos_token\n",
    "    tokenized_response = tokenizer(response_str, add_special_tokens=False)\n",
    "    input_ids = tokenized_instruction_input['input_ids'] + tokenized_response['input_ids']\n",
    "    attention_mask = tokenized_instruction_input['attention_mask'] + tokenized_response['attention_mask']\n",
    "    labels = [-100] * len(tokenized_instruction_input['input_ids']) + tokenized_response['input_ids']\n",
    "    if len(input_ids) > MAX_LENGTH:\n",
    "        input_ids = input_ids[:MAX_LENGTH]\n",
    "        attention_mask = attention_mask[:MAX_LENGTH]\n",
    "        labels = labels[:MAX_LENGTH]\n",
    "    return {'input_ids': input_ids, 'attention_mask': attention_mask, 'labels': labels}\n",
    "\n",
    "tokenized_ds = datasets.map(process_function, remove_columns=ds.column_names)   "
   ]
  },
  {
   "cell_type": "code",
   "execution_count": 7,
   "metadata": {},
   "outputs": [
    {
     "data": {
      "text/plain": [
       "'Human: 亲爱的客户，我很自豪地向您推荐一款产品，我相信您一定会喜欢。\\n\\n Assistant: 谢谢您的信任！请您告诉我产品的详细信息以及特点，我可以更好地了解并向其他潜在客户推荐它。</s>'"
      ]
     },
     "execution_count": 7,
     "metadata": {},
     "output_type": "execute_result"
    }
   ],
   "source": [
    "tokenizer.decode(tokenized_ds['train']['input_ids'][0])"
   ]
  },
  {
   "cell_type": "markdown",
   "metadata": {},
   "source": [
    "## discussion padding issues in llama2"
   ]
  },
  {
   "cell_type": "code",
   "execution_count": 8,
   "metadata": {},
   "outputs": [],
   "source": [
    "from transformers import DataCollatorForSeq2Seq\n",
    "from torch.utils.data import DataLoader\n",
    "collator = DataCollatorForSeq2Seq(tokenizer=tokenizer)\n",
    "train_dataloader = DataLoader(tokenized_ds['train'], collate_fn=collator, shuffle=False, batch_size=4)"
   ]
  },
  {
   "cell_type": "code",
   "execution_count": 9,
   "metadata": {},
   "outputs": [
    {
     "name": "stderr",
     "output_type": "stream",
     "text": [
      "You're using a LlamaTokenizerFast tokenizer. Please note that with a fast tokenizer, using the `__call__` method is faster than using a method to encode the text followed by a call to the `pad` method to get a padded encoding.\n"
     ]
    }
   ],
   "source": [
    "batch = next(iter(train_dataloader))"
   ]
  },
  {
   "cell_type": "code",
   "execution_count": 10,
   "metadata": {},
   "outputs": [
    {
     "data": {
      "text/plain": [
       "[130, 43, 33, 82]"
      ]
     },
     "execution_count": 10,
     "metadata": {},
     "output_type": "execute_result"
    }
   ],
   "source": [
    "[len(seq) for seq in tokenized_ds['train']['input_ids'][:4]]"
   ]
  },
  {
   "cell_type": "code",
   "execution_count": 11,
   "metadata": {},
   "outputs": [
    {
     "data": {
      "text/plain": [
       "[130, 130, 130, 130]"
      ]
     },
     "execution_count": 11,
     "metadata": {},
     "output_type": "execute_result"
    }
   ],
   "source": [
    "[len(seq) for seq in batch['input_ids']]"
   ]
  },
  {
   "cell_type": "code",
   "execution_count": 12,
   "metadata": {},
   "outputs": [
    {
     "data": {
      "text/plain": [
       "[130, 43, 33, 82]"
      ]
     },
     "execution_count": 12,
     "metadata": {},
     "output_type": "execute_result"
    }
   ],
   "source": [
    "[sum(mask == 1).item() for mask in batch['attention_mask']]"
   ]
  },
  {
   "cell_type": "markdown",
   "metadata": {},
   "source": [
    "## load model"
   ]
  },
  {
   "cell_type": "code",
   "execution_count": 13,
   "metadata": {},
   "outputs": [
    {
     "data": {
      "application/vnd.jupyter.widget-view+json": {
       "model_id": "d783e365c26842529d2376f6ab8b4c37",
       "version_major": 2,
       "version_minor": 0
      },
      "text/plain": [
       "Loading checkpoint shards:   0%|          | 0/2 [00:00<?, ?it/s]"
      ]
     },
     "metadata": {},
     "output_type": "display_data"
    }
   ],
   "source": [
    "\n",
    "model = AutoModelForCausalLM.from_pretrained(ckpt, low_cpu_mem_usage=True, torch_dtype=torch.bfloat16, device_map='auto', token=hf_token)\n",
    "# model = AutoModelForCausalLM.from_pretrained(ckpt, low_cpu_mem_usage=True, device_map='auto', token=hf_token)"
   ]
  },
  {
   "cell_type": "code",
   "execution_count": 14,
   "metadata": {},
   "outputs": [
    {
     "data": {
      "text/plain": [
       "device(type='cuda', index=0)"
      ]
     },
     "execution_count": 14,
     "metadata": {},
     "output_type": "execute_result"
    }
   ],
   "source": [
    "model.device"
   ]
  },
  {
   "cell_type": "code",
   "execution_count": 15,
   "metadata": {},
   "outputs": [
    {
     "data": {
      "text/plain": [
       "torch.bfloat16"
      ]
     },
     "execution_count": 15,
     "metadata": {},
     "output_type": "execute_result"
    }
   ],
   "source": [
    "model.dtype"
   ]
  },
  {
   "cell_type": "code",
   "execution_count": 16,
   "metadata": {},
   "outputs": [
    {
     "data": {
      "text/plain": [
       "Embedding(32001, 4096)"
      ]
     },
     "execution_count": 16,
     "metadata": {},
     "output_type": "execute_result"
    }
   ],
   "source": [
    "model.resize_token_embeddings(len(tokenizer)) "
   ]
  },
  {
   "cell_type": "code",
   "execution_count": 17,
   "metadata": {},
   "outputs": [
    {
     "name": "stdout",
     "output_type": "stream",
     "text": [
      "32001\n"
     ]
    }
   ],
   "source": [
    "print(model.config.vocab_size)"
   ]
  },
  {
   "cell_type": "code",
   "execution_count": 18,
   "metadata": {},
   "outputs": [
    {
     "name": "stdout",
     "output_type": "stream",
     "text": [
      "weight torch.bfloat16 cuda:0 torch.Size([32001, 4096]) False\n"
     ]
    }
   ],
   "source": [
    "# does not train the embedding layer\n",
    "for name, params in model.model.embed_tokens.named_parameters():\n",
    "    params.requires_grad = False\n",
    "    print(name, params.dtype, params.device, params.shape, params.requires_grad)\n",
    "mean_embedding = torch.mean(model.model.embed_tokens.weight[:-1], dim=0)\n",
    "model.model.embed_tokens.weight[-1] = mean_embedding"
   ]
  },
  {
   "cell_type": "code",
   "execution_count": 19,
   "metadata": {},
   "outputs": [],
   "source": [
    "# if use fp16 will get nan in logits\n",
    "# model(**batch.to('cuda'))"
   ]
  },
  {
   "cell_type": "markdown",
   "metadata": {},
   "source": [
    "## lora config"
   ]
  },
  {
   "cell_type": "code",
   "execution_count": 20,
   "metadata": {},
   "outputs": [],
   "source": [
    "from peft import LoraConfig, TaskType, get_peft_model\n",
    "config = LoraConfig(task_type=TaskType.CAUSAL_LM)\n",
    "lora_model = get_peft_model(model, config)"
   ]
  },
  {
   "cell_type": "code",
   "execution_count": 21,
   "metadata": {},
   "outputs": [
    {
     "name": "stdout",
     "output_type": "stream",
     "text": [
      "trainable params: 4,194,304 || all params: 6,742,618,112 || trainable%: 0.06220586618327525\n"
     ]
    }
   ],
   "source": [
    "lora_model.print_trainable_parameters()"
   ]
  },
  {
   "cell_type": "code",
   "execution_count": 27,
   "metadata": {},
   "outputs": [
    {
     "name": "stdout",
     "output_type": "stream",
     "text": [
      "base_model.model.model.embed_tokens.weight torch.bfloat16\n",
      "base_model.model.model.layers.0.self_attn.q_proj.base_layer.weight torch.bfloat16\n",
      "base_model.model.model.layers.0.self_attn.q_proj.lora_A.default.weight torch.bfloat16\n",
      "base_model.model.model.layers.0.self_attn.q_proj.lora_B.default.weight torch.bfloat16\n",
      "base_model.model.model.layers.0.self_attn.k_proj.weight torch.bfloat16\n",
      "base_model.model.model.layers.0.self_attn.v_proj.base_layer.weight torch.bfloat16\n",
      "base_model.model.model.layers.0.self_attn.v_proj.lora_A.default.weight torch.bfloat16\n",
      "base_model.model.model.layers.0.self_attn.v_proj.lora_B.default.weight torch.bfloat16\n",
      "base_model.model.model.layers.0.self_attn.o_proj.weight torch.bfloat16\n",
      "base_model.model.model.layers.0.mlp.gate_proj.weight torch.bfloat16\n",
      "base_model.model.model.layers.0.mlp.up_proj.weight torch.bfloat16\n"
     ]
    }
   ],
   "source": [
    "count = 0\n",
    "for name, param in lora_model.named_parameters():\n",
    "    print(name, param.dtype)\n",
    "    count += 1\n",
    "    if count > 10:\n",
    "        break"
   ]
  },
  {
   "cell_type": "code",
   "execution_count": 24,
   "metadata": {},
   "outputs": [],
   "source": [
    "# lora_model(**batch.to('cuda'))"
   ]
  },
  {
   "cell_type": "markdown",
   "metadata": {},
   "source": [
    "## training"
   ]
  },
  {
   "cell_type": "code",
   "execution_count": 25,
   "metadata": {},
   "outputs": [],
   "source": [
    "args = TrainingArguments(output_dir='./llama2_lora/',\n",
    "                        num_train_epochs=1,\n",
    "                        per_device_train_batch_size=2,\n",
    "                        gradient_accumulation_steps=8,\n",
    "                        per_device_eval_batch_size=4,\n",
    "                        logging_steps=10,\n",
    "                        load_best_model_at_end=True,\n",
    "                        evaluation_strategy='epoch',\n",
    "                        save_strategy='epoch',\n",
    "                        save_total_limit=0,\n",
    "                        report_to='wandb',\n",
    "                        # adam_epsilon=1e-4, # default is 1e-8 but lead to underflow issue when use fp16 training.\n",
    "                        )\n",
    "trainer = Trainer(model=lora_model, args=args, train_dataset=tokenized_ds['train'].select(range(6000)), eval_dataset=tokenized_ds['test'],\n",
    "                data_collator=DataCollatorForSeq2Seq(tokenizer=tokenizer, padding=True))"
   ]
  },
  {
   "cell_type": "code",
   "execution_count": 26,
   "metadata": {},
   "outputs": [
    {
     "name": "stderr",
     "output_type": "stream",
     "text": [
      "Failed to detect the name of this notebook, you can set it manually with the WANDB_NOTEBOOK_NAME environment variable to enable code saving.\n",
      "\u001b[34m\u001b[1mwandb\u001b[0m: Currently logged in as: \u001b[33myutongdai\u001b[0m. Use \u001b[1m`wandb login --relogin`\u001b[0m to force relogin\n"
     ]
    },
    {
     "data": {
      "text/html": [
       "Tracking run with wandb version 0.16.1"
      ],
      "text/plain": [
       "<IPython.core.display.HTML object>"
      ]
     },
     "metadata": {},
     "output_type": "display_data"
    },
    {
     "data": {
      "text/html": [
       "Run data is saved locally in <code>/home/yutong/commented_codebase/hf_tutorial/wandb/run-20231212_222129-k984ng0y</code>"
      ],
      "text/plain": [
       "<IPython.core.display.HTML object>"
      ]
     },
     "metadata": {},
     "output_type": "display_data"
    },
    {
     "data": {
      "text/html": [
       "Syncing run <strong><a href='https://wandb.ai/yutongdai/huggingface/runs/k984ng0y' target=\"_blank\">silver-smoke-15</a></strong> to <a href='https://wandb.ai/yutongdai/huggingface' target=\"_blank\">Weights & Biases</a> (<a href='https://wandb.me/run' target=\"_blank\">docs</a>)<br/>"
      ],
      "text/plain": [
       "<IPython.core.display.HTML object>"
      ]
     },
     "metadata": {},
     "output_type": "display_data"
    },
    {
     "data": {
      "text/html": [
       " View project at <a href='https://wandb.ai/yutongdai/huggingface' target=\"_blank\">https://wandb.ai/yutongdai/huggingface</a>"
      ],
      "text/plain": [
       "<IPython.core.display.HTML object>"
      ]
     },
     "metadata": {},
     "output_type": "display_data"
    },
    {
     "data": {
      "text/html": [
       " View run at <a href='https://wandb.ai/yutongdai/huggingface/runs/k984ng0y' target=\"_blank\">https://wandb.ai/yutongdai/huggingface/runs/k984ng0y</a>"
      ],
      "text/plain": [
       "<IPython.core.display.HTML object>"
      ]
     },
     "metadata": {},
     "output_type": "display_data"
    },
    {
     "data": {
      "text/html": [
       "\n",
       "    <div>\n",
       "      \n",
       "      <progress value='375' max='375' style='width:300px; height:20px; vertical-align: middle;'></progress>\n",
       "      [375/375 17:58, Epoch 1/1]\n",
       "    </div>\n",
       "    <table border=\"1\" class=\"dataframe\">\n",
       "  <thead>\n",
       " <tr style=\"text-align: left;\">\n",
       "      <th>Epoch</th>\n",
       "      <th>Training Loss</th>\n",
       "      <th>Validation Loss</th>\n",
       "    </tr>\n",
       "  </thead>\n",
       "  <tbody>\n",
       "    <tr>\n",
       "      <td>1</td>\n",
       "      <td>1.009400</td>\n",
       "      <td>0.996850</td>\n",
       "    </tr>\n",
       "  </tbody>\n",
       "</table><p>"
      ],
      "text/plain": [
       "<IPython.core.display.HTML object>"
      ]
     },
     "metadata": {},
     "output_type": "display_data"
    },
    {
     "data": {
      "text/plain": [
       "TrainOutput(global_step=375, training_loss=1.023783432006836, metrics={'train_runtime': 1085.7184, 'train_samples_per_second': 5.526, 'train_steps_per_second': 0.345, 'total_flos': 5.093896926245683e+16, 'train_loss': 1.023783432006836, 'epoch': 1.0})"
      ]
     },
     "execution_count": 26,
     "metadata": {},
     "output_type": "execute_result"
    }
   ],
   "source": [
    "trainer.train()"
   ]
  },
  {
   "cell_type": "markdown",
   "metadata": {},
   "source": [
    "1. when use `gradient_checkpoint` with `lora` add `lora_model.enable_input_require_parameters()` beofre setting up `TrainingArguments`.\n",
    "\n",
    "2. when use `fp16` with `adam` needs to adjust `adam_epsilon`, otheriwse you get zero loss. [can be buggy]"
   ]
  },
  {
   "cell_type": "markdown",
   "metadata": {},
   "source": [
    "# inference"
   ]
  },
  {
   "cell_type": "code",
   "execution_count": 30,
   "metadata": {},
   "outputs": [],
   "source": [
    "from peft import PeftModel\n",
    "# model = AutoModelForCausalLM.from_pretrained(ckpt, low_cpu_mem_usage=True, torch_dtype=torch.bfloat16, device_map='auto', token=hf_token)\n",
    "p_model = PeftModel.from_pretrained(model, model_id=\"./llama2_lora/checkpoint-375/\")"
   ]
  },
  {
   "cell_type": "code",
   "execution_count": 35,
   "metadata": {},
   "outputs": [
    {
     "name": "stdout",
     "output_type": "stream",
     "text": [
      "Human: 考试有哪些技巧？\n",
      "\n",
      "Assistant: 考试是一种重要的学习和评估方法，它能够评估学生的知识水平和学习能力。考试的技巧可以帮助学生提高考\n"
     ]
    }
   ],
   "source": [
    "ipt = tokenizer(\"Human: {}\\n{}\".format(\"考试有哪些技巧？\", \"\").strip() + \"\\n\\nAssistant: \", return_tensors=\"pt\")\n",
    "ipt = {k: v.to(p_model.device) for k, v in ipt.items()}\n",
    "print(tokenizer.decode(p_model.generate(**ipt, num_beams=3, \n",
    "                    max_length=100, repetition_penalty=1.5)[0], skip_special_tokens=True))"
   ]
  },
  {
   "cell_type": "code",
   "execution_count": 38,
   "metadata": {},
   "outputs": [
    {
     "name": "stdout",
     "output_type": "stream",
     "text": [
      "Human: 如何做西红柿炒鸡蛋？\n",
      "\n",
      "Assistant: 1. 把西红柿切成小块。\n",
      "\n",
      "2. 把鸡蛋炒熟。\n",
      "\n",
      "3. 将西红柿和鸡蛋放在一起，加上酱油、胡椒粉、辣椒粉等调料，炒熟。\n"
     ]
    }
   ],
   "source": [
    "ipt = tokenizer(\"Human: {}\\n{}\".format(\"如何做西红柿炒鸡蛋？\", \"\").strip() + \"\\n\\nAssistant: \", return_tensors=\"pt\")\n",
    "ipt = {k: v.to(p_model.device) for k, v in ipt.items()}\n",
    "print(tokenizer.decode(p_model.generate(**ipt, num_beams=3, \n",
    "                    max_length=300, repetition_penalty=1.5)[0], skip_special_tokens=True))"
   ]
  },
  {
   "cell_type": "code",
   "execution_count": null,
   "metadata": {},
   "outputs": [],
   "source": []
  },
  {
   "cell_type": "markdown",
   "metadata": {},
   "source": [
    "# 8-bit"
   ]
  },
  {
   "cell_type": "code",
   "execution_count": 4,
   "metadata": {},
   "outputs": [],
   "source": [
    "import os\n",
    "os.environ[\"CUDA_VISIBLE_DEVICES\"] = \"0,1,2,3\"\n",
    "hf_token = os.environ.get('HF_TOKEN')\n",
    "from datasets import Dataset\n",
    "from transformers import AutoTokenizer, AutoModelForCausalLM, DataCollatorForSeq2Seq, TrainingArguments, Trainer\n",
    "import torch"
   ]
  },
  {
   "cell_type": "code",
   "execution_count": 5,
   "metadata": {},
   "outputs": [
    {
     "data": {
      "application/vnd.jupyter.widget-view+json": {
       "model_id": "cb19588fd9314e7eaba6c9fb336099a8",
       "version_major": 2,
       "version_minor": 0
      },
      "text/plain": [
       "Loading checkpoint shards:   0%|          | 0/2 [00:00<?, ?it/s]"
      ]
     },
     "metadata": {},
     "output_type": "display_data"
    }
   ],
   "source": [
    "ckpt = 'meta-llama/Llama-2-7b-hf'\n",
    "model = AutoModelForCausalLM.from_pretrained(ckpt, low_cpu_mem_usage=True, torch_dtype=torch.bfloat16, device_map='auto', token=hf_token, load_in_8bit=True)"
   ]
  },
  {
   "cell_type": "code",
   "execution_count": 8,
   "metadata": {},
   "outputs": [
    {
     "name": "stdout",
     "output_type": "stream",
     "text": [
      "model.layers.0.self_attn.q_proj.weight torch.int8\n",
      "model.layers.0.self_attn.k_proj.weight torch.int8\n",
      "model.layers.0.self_attn.v_proj.weight torch.int8\n",
      "model.layers.0.self_attn.o_proj.weight torch.int8\n",
      "model.layers.0.mlp.gate_proj.weight torch.int8\n",
      "model.layers.0.mlp.up_proj.weight torch.int8\n",
      "model.layers.0.mlp.down_proj.weight torch.int8\n",
      "model.layers.1.self_attn.q_proj.weight torch.int8\n",
      "model.layers.1.self_attn.k_proj.weight torch.int8\n",
      "model.layers.1.self_attn.v_proj.weight torch.int8\n",
      "model.layers.1.self_attn.o_proj.weight torch.int8\n",
      "model.layers.1.mlp.gate_proj.weight torch.int8\n",
      "model.layers.1.mlp.up_proj.weight torch.int8\n",
      "model.layers.1.mlp.down_proj.weight torch.int8\n",
      "model.layers.2.self_attn.q_proj.weight torch.int8\n",
      "model.layers.2.self_attn.k_proj.weight torch.int8\n",
      "model.layers.2.self_attn.v_proj.weight torch.int8\n",
      "model.layers.2.self_attn.o_proj.weight torch.int8\n",
      "model.layers.2.mlp.gate_proj.weight torch.int8\n",
      "model.layers.2.mlp.up_proj.weight torch.int8\n",
      "model.layers.2.mlp.down_proj.weight torch.int8\n",
      "model.layers.3.self_attn.q_proj.weight torch.int8\n",
      "model.layers.3.self_attn.k_proj.weight torch.int8\n",
      "model.layers.3.self_attn.v_proj.weight torch.int8\n",
      "model.layers.3.self_attn.o_proj.weight torch.int8\n",
      "model.layers.3.mlp.gate_proj.weight torch.int8\n",
      "model.layers.3.mlp.up_proj.weight torch.int8\n",
      "model.layers.3.mlp.down_proj.weight torch.int8\n",
      "model.layers.4.self_attn.q_proj.weight torch.int8\n",
      "model.layers.4.self_attn.k_proj.weight torch.int8\n",
      "model.layers.4.self_attn.v_proj.weight torch.int8\n",
      "model.layers.4.self_attn.o_proj.weight torch.int8\n",
      "model.layers.4.mlp.gate_proj.weight torch.int8\n",
      "model.layers.4.mlp.up_proj.weight torch.int8\n",
      "model.layers.4.mlp.down_proj.weight torch.int8\n",
      "model.layers.5.self_attn.q_proj.weight torch.int8\n",
      "model.layers.5.self_attn.k_proj.weight torch.int8\n",
      "model.layers.5.self_attn.v_proj.weight torch.int8\n",
      "model.layers.5.self_attn.o_proj.weight torch.int8\n",
      "model.layers.5.mlp.gate_proj.weight torch.int8\n",
      "model.layers.5.mlp.up_proj.weight torch.int8\n",
      "model.layers.5.mlp.down_proj.weight torch.int8\n",
      "model.layers.6.self_attn.q_proj.weight torch.int8\n",
      "model.layers.6.self_attn.k_proj.weight torch.int8\n",
      "model.layers.6.self_attn.v_proj.weight torch.int8\n",
      "model.layers.6.self_attn.o_proj.weight torch.int8\n",
      "model.layers.6.mlp.gate_proj.weight torch.int8\n",
      "model.layers.6.mlp.up_proj.weight torch.int8\n",
      "model.layers.6.mlp.down_proj.weight torch.int8\n",
      "model.layers.7.self_attn.q_proj.weight torch.int8\n",
      "model.layers.7.self_attn.k_proj.weight torch.int8\n",
      "model.layers.7.self_attn.v_proj.weight torch.int8\n",
      "model.layers.7.self_attn.o_proj.weight torch.int8\n",
      "model.layers.7.mlp.gate_proj.weight torch.int8\n",
      "model.layers.7.mlp.up_proj.weight torch.int8\n",
      "model.layers.7.mlp.down_proj.weight torch.int8\n",
      "model.layers.8.self_attn.q_proj.weight torch.int8\n",
      "model.layers.8.self_attn.k_proj.weight torch.int8\n",
      "model.layers.8.self_attn.v_proj.weight torch.int8\n",
      "model.layers.8.self_attn.o_proj.weight torch.int8\n",
      "model.layers.8.mlp.gate_proj.weight torch.int8\n",
      "model.layers.8.mlp.up_proj.weight torch.int8\n",
      "model.layers.8.mlp.down_proj.weight torch.int8\n",
      "model.layers.9.self_attn.q_proj.weight torch.int8\n",
      "model.layers.9.self_attn.k_proj.weight torch.int8\n",
      "model.layers.9.self_attn.v_proj.weight torch.int8\n",
      "model.layers.9.self_attn.o_proj.weight torch.int8\n",
      "model.layers.9.mlp.gate_proj.weight torch.int8\n",
      "model.layers.9.mlp.up_proj.weight torch.int8\n",
      "model.layers.9.mlp.down_proj.weight torch.int8\n",
      "model.layers.10.self_attn.q_proj.weight torch.int8\n",
      "model.layers.10.self_attn.k_proj.weight torch.int8\n",
      "model.layers.10.self_attn.v_proj.weight torch.int8\n",
      "model.layers.10.self_attn.o_proj.weight torch.int8\n",
      "model.layers.10.mlp.gate_proj.weight torch.int8\n",
      "model.layers.10.mlp.up_proj.weight torch.int8\n",
      "model.layers.10.mlp.down_proj.weight torch.int8\n",
      "model.layers.11.self_attn.q_proj.weight torch.int8\n",
      "model.layers.11.self_attn.k_proj.weight torch.int8\n",
      "model.layers.11.self_attn.v_proj.weight torch.int8\n",
      "model.layers.11.self_attn.o_proj.weight torch.int8\n",
      "model.layers.11.mlp.gate_proj.weight torch.int8\n",
      "model.layers.11.mlp.up_proj.weight torch.int8\n",
      "model.layers.11.mlp.down_proj.weight torch.int8\n",
      "model.layers.12.self_attn.q_proj.weight torch.int8\n",
      "model.layers.12.self_attn.k_proj.weight torch.int8\n",
      "model.layers.12.self_attn.v_proj.weight torch.int8\n",
      "model.layers.12.self_attn.o_proj.weight torch.int8\n",
      "model.layers.12.mlp.gate_proj.weight torch.int8\n",
      "model.layers.12.mlp.up_proj.weight torch.int8\n",
      "model.layers.12.mlp.down_proj.weight torch.int8\n",
      "model.layers.13.self_attn.q_proj.weight torch.int8\n",
      "model.layers.13.self_attn.k_proj.weight torch.int8\n",
      "model.layers.13.self_attn.v_proj.weight torch.int8\n",
      "model.layers.13.self_attn.o_proj.weight torch.int8\n",
      "model.layers.13.mlp.gate_proj.weight torch.int8\n",
      "model.layers.13.mlp.up_proj.weight torch.int8\n",
      "model.layers.13.mlp.down_proj.weight torch.int8\n",
      "model.layers.14.self_attn.q_proj.weight torch.int8\n",
      "model.layers.14.self_attn.k_proj.weight torch.int8\n",
      "model.layers.14.self_attn.v_proj.weight torch.int8\n",
      "model.layers.14.self_attn.o_proj.weight torch.int8\n",
      "model.layers.14.mlp.gate_proj.weight torch.int8\n",
      "model.layers.14.mlp.up_proj.weight torch.int8\n",
      "model.layers.14.mlp.down_proj.weight torch.int8\n",
      "model.layers.15.self_attn.q_proj.weight torch.int8\n",
      "model.layers.15.self_attn.k_proj.weight torch.int8\n",
      "model.layers.15.self_attn.v_proj.weight torch.int8\n",
      "model.layers.15.self_attn.o_proj.weight torch.int8\n",
      "model.layers.15.mlp.gate_proj.weight torch.int8\n",
      "model.layers.15.mlp.up_proj.weight torch.int8\n",
      "model.layers.15.mlp.down_proj.weight torch.int8\n",
      "model.layers.16.self_attn.q_proj.weight torch.int8\n",
      "model.layers.16.self_attn.k_proj.weight torch.int8\n",
      "model.layers.16.self_attn.v_proj.weight torch.int8\n",
      "model.layers.16.self_attn.o_proj.weight torch.int8\n",
      "model.layers.16.mlp.gate_proj.weight torch.int8\n",
      "model.layers.16.mlp.up_proj.weight torch.int8\n",
      "model.layers.16.mlp.down_proj.weight torch.int8\n",
      "model.layers.17.self_attn.q_proj.weight torch.int8\n",
      "model.layers.17.self_attn.k_proj.weight torch.int8\n",
      "model.layers.17.self_attn.v_proj.weight torch.int8\n",
      "model.layers.17.self_attn.o_proj.weight torch.int8\n",
      "model.layers.17.mlp.gate_proj.weight torch.int8\n",
      "model.layers.17.mlp.up_proj.weight torch.int8\n",
      "model.layers.17.mlp.down_proj.weight torch.int8\n",
      "model.layers.18.self_attn.q_proj.weight torch.int8\n",
      "model.layers.18.self_attn.k_proj.weight torch.int8\n",
      "model.layers.18.self_attn.v_proj.weight torch.int8\n",
      "model.layers.18.self_attn.o_proj.weight torch.int8\n",
      "model.layers.18.mlp.gate_proj.weight torch.int8\n",
      "model.layers.18.mlp.up_proj.weight torch.int8\n",
      "model.layers.18.mlp.down_proj.weight torch.int8\n",
      "model.layers.19.self_attn.q_proj.weight torch.int8\n",
      "model.layers.19.self_attn.k_proj.weight torch.int8\n",
      "model.layers.19.self_attn.v_proj.weight torch.int8\n",
      "model.layers.19.self_attn.o_proj.weight torch.int8\n",
      "model.layers.19.mlp.gate_proj.weight torch.int8\n",
      "model.layers.19.mlp.up_proj.weight torch.int8\n",
      "model.layers.19.mlp.down_proj.weight torch.int8\n",
      "model.layers.20.self_attn.q_proj.weight torch.int8\n",
      "model.layers.20.self_attn.k_proj.weight torch.int8\n",
      "model.layers.20.self_attn.v_proj.weight torch.int8\n",
      "model.layers.20.self_attn.o_proj.weight torch.int8\n",
      "model.layers.20.mlp.gate_proj.weight torch.int8\n",
      "model.layers.20.mlp.up_proj.weight torch.int8\n",
      "model.layers.20.mlp.down_proj.weight torch.int8\n",
      "model.layers.21.self_attn.q_proj.weight torch.int8\n",
      "model.layers.21.self_attn.k_proj.weight torch.int8\n",
      "model.layers.21.self_attn.v_proj.weight torch.int8\n",
      "model.layers.21.self_attn.o_proj.weight torch.int8\n",
      "model.layers.21.mlp.gate_proj.weight torch.int8\n",
      "model.layers.21.mlp.up_proj.weight torch.int8\n",
      "model.layers.21.mlp.down_proj.weight torch.int8\n",
      "model.layers.22.self_attn.q_proj.weight torch.int8\n",
      "model.layers.22.self_attn.k_proj.weight torch.int8\n",
      "model.layers.22.self_attn.v_proj.weight torch.int8\n",
      "model.layers.22.self_attn.o_proj.weight torch.int8\n",
      "model.layers.22.mlp.gate_proj.weight torch.int8\n",
      "model.layers.22.mlp.up_proj.weight torch.int8\n",
      "model.layers.22.mlp.down_proj.weight torch.int8\n",
      "model.layers.23.self_attn.q_proj.weight torch.int8\n",
      "model.layers.23.self_attn.k_proj.weight torch.int8\n",
      "model.layers.23.self_attn.v_proj.weight torch.int8\n",
      "model.layers.23.self_attn.o_proj.weight torch.int8\n",
      "model.layers.23.mlp.gate_proj.weight torch.int8\n",
      "model.layers.23.mlp.up_proj.weight torch.int8\n",
      "model.layers.23.mlp.down_proj.weight torch.int8\n",
      "model.layers.24.self_attn.q_proj.weight torch.int8\n",
      "model.layers.24.self_attn.k_proj.weight torch.int8\n",
      "model.layers.24.self_attn.v_proj.weight torch.int8\n",
      "model.layers.24.self_attn.o_proj.weight torch.int8\n",
      "model.layers.24.mlp.gate_proj.weight torch.int8\n",
      "model.layers.24.mlp.up_proj.weight torch.int8\n",
      "model.layers.24.mlp.down_proj.weight torch.int8\n",
      "model.layers.25.self_attn.q_proj.weight torch.int8\n",
      "model.layers.25.self_attn.k_proj.weight torch.int8\n",
      "model.layers.25.self_attn.v_proj.weight torch.int8\n",
      "model.layers.25.self_attn.o_proj.weight torch.int8\n",
      "model.layers.25.mlp.gate_proj.weight torch.int8\n",
      "model.layers.25.mlp.up_proj.weight torch.int8\n",
      "model.layers.25.mlp.down_proj.weight torch.int8\n",
      "model.layers.26.self_attn.q_proj.weight torch.int8\n",
      "model.layers.26.self_attn.k_proj.weight torch.int8\n",
      "model.layers.26.self_attn.v_proj.weight torch.int8\n",
      "model.layers.26.self_attn.o_proj.weight torch.int8\n",
      "model.layers.26.mlp.gate_proj.weight torch.int8\n",
      "model.layers.26.mlp.up_proj.weight torch.int8\n",
      "model.layers.26.mlp.down_proj.weight torch.int8\n",
      "model.layers.27.self_attn.q_proj.weight torch.int8\n",
      "model.layers.27.self_attn.k_proj.weight torch.int8\n",
      "model.layers.27.self_attn.v_proj.weight torch.int8\n",
      "model.layers.27.self_attn.o_proj.weight torch.int8\n",
      "model.layers.27.mlp.gate_proj.weight torch.int8\n",
      "model.layers.27.mlp.up_proj.weight torch.int8\n",
      "model.layers.27.mlp.down_proj.weight torch.int8\n",
      "model.layers.28.self_attn.q_proj.weight torch.int8\n",
      "model.layers.28.self_attn.k_proj.weight torch.int8\n",
      "model.layers.28.self_attn.v_proj.weight torch.int8\n",
      "model.layers.28.self_attn.o_proj.weight torch.int8\n",
      "model.layers.28.mlp.gate_proj.weight torch.int8\n",
      "model.layers.28.mlp.up_proj.weight torch.int8\n",
      "model.layers.28.mlp.down_proj.weight torch.int8\n",
      "model.layers.29.self_attn.q_proj.weight torch.int8\n",
      "model.layers.29.self_attn.k_proj.weight torch.int8\n",
      "model.layers.29.self_attn.v_proj.weight torch.int8\n",
      "model.layers.29.self_attn.o_proj.weight torch.int8\n",
      "model.layers.29.mlp.gate_proj.weight torch.int8\n",
      "model.layers.29.mlp.up_proj.weight torch.int8\n",
      "model.layers.29.mlp.down_proj.weight torch.int8\n",
      "model.layers.30.self_attn.q_proj.weight torch.int8\n",
      "model.layers.30.self_attn.k_proj.weight torch.int8\n",
      "model.layers.30.self_attn.v_proj.weight torch.int8\n",
      "model.layers.30.self_attn.o_proj.weight torch.int8\n",
      "model.layers.30.mlp.gate_proj.weight torch.int8\n",
      "model.layers.30.mlp.up_proj.weight torch.int8\n",
      "model.layers.30.mlp.down_proj.weight torch.int8\n",
      "model.layers.31.self_attn.q_proj.weight torch.int8\n",
      "model.layers.31.self_attn.k_proj.weight torch.int8\n",
      "model.layers.31.self_attn.v_proj.weight torch.int8\n",
      "model.layers.31.self_attn.o_proj.weight torch.int8\n",
      "model.layers.31.mlp.gate_proj.weight torch.int8\n",
      "model.layers.31.mlp.up_proj.weight torch.int8\n",
      "model.layers.31.mlp.down_proj.weight torch.int8\n"
     ]
    }
   ],
   "source": [
    "for name, params in model.named_parameters():\n",
    "    if params.dtype == torch.int8:\n",
    "        print(name, params.dtype)"
   ]
  },
  {
   "cell_type": "code",
   "execution_count": 9,
   "metadata": {},
   "outputs": [
    {
     "data": {
      "text/plain": [
       "LlamaConfig {\n",
       "  \"_name_or_path\": \"meta-llama/Llama-2-7b-hf\",\n",
       "  \"architectures\": [\n",
       "    \"LlamaForCausalLM\"\n",
       "  ],\n",
       "  \"attention_bias\": false,\n",
       "  \"bos_token_id\": 1,\n",
       "  \"eos_token_id\": 2,\n",
       "  \"hidden_act\": \"silu\",\n",
       "  \"hidden_size\": 4096,\n",
       "  \"initializer_range\": 0.02,\n",
       "  \"intermediate_size\": 11008,\n",
       "  \"max_position_embeddings\": 4096,\n",
       "  \"model_type\": \"llama\",\n",
       "  \"num_attention_heads\": 32,\n",
       "  \"num_hidden_layers\": 32,\n",
       "  \"num_key_value_heads\": 32,\n",
       "  \"pretraining_tp\": 1,\n",
       "  \"quantization_config\": {\n",
       "    \"bnb_4bit_compute_dtype\": \"float32\",\n",
       "    \"bnb_4bit_quant_type\": \"fp4\",\n",
       "    \"bnb_4bit_use_double_quant\": false,\n",
       "    \"llm_int8_enable_fp32_cpu_offload\": false,\n",
       "    \"llm_int8_has_fp16_weight\": false,\n",
       "    \"llm_int8_skip_modules\": null,\n",
       "    \"llm_int8_threshold\": 6.0,\n",
       "    \"load_in_4bit\": false,\n",
       "    \"load_in_8bit\": true,\n",
       "    \"quant_method\": \"bitsandbytes\"\n",
       "  },\n",
       "  \"rms_norm_eps\": 1e-05,\n",
       "  \"rope_scaling\": null,\n",
       "  \"rope_theta\": 10000.0,\n",
       "  \"tie_word_embeddings\": false,\n",
       "  \"torch_dtype\": \"bfloat16\",\n",
       "  \"transformers_version\": \"4.35.2\",\n",
       "  \"use_cache\": true,\n",
       "  \"vocab_size\": 32000\n",
       "}"
      ]
     },
     "execution_count": 9,
     "metadata": {},
     "output_type": "execute_result"
    }
   ],
   "source": [
    "model.config"
   ]
  },
  {
   "cell_type": "code",
   "execution_count": null,
   "metadata": {},
   "outputs": [],
   "source": []
  }
 ],
 "metadata": {
  "kernelspec": {
   "display_name": "IMP",
   "language": "python",
   "name": "python3"
  },
  "language_info": {
   "codemirror_mode": {
    "name": "ipython",
    "version": 3
   },
   "file_extension": ".py",
   "mimetype": "text/x-python",
   "name": "python",
   "nbconvert_exporter": "python",
   "pygments_lexer": "ipython3",
   "version": "3.10.13"
  }
 },
 "nbformat": 4,
 "nbformat_minor": 2
}

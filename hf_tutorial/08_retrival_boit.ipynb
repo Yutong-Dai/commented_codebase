{
 "cells": [
  {
   "cell_type": "markdown",
   "metadata": {},
   "source": [
    "# Method\n",
    "\n",
    "<div>\n",
    "<img src=\"figs/08_retrival_bot.jpg\" width=\"1000\"/>\n",
    "</div>"
   ]
  },
  {
   "cell_type": "code",
   "execution_count": 7,
   "metadata": {},
   "outputs": [
    {
     "name": "stdout",
     "output_type": "stream",
     "text": [
      "--2023-12-08 15:05:40--  https://raw.githubusercontent.com/zyds/transformers-code/master/02-NLP%20Tasks/13-retrieval_chatbot/law_faq.csv\n",
      "Resolving raw.githubusercontent.com (raw.githubusercontent.com)... 185.199.108.133, 185.199.109.133, 185.199.110.133, ...\n",
      "Connecting to raw.githubusercontent.com (raw.githubusercontent.com)|185.199.108.133|:443... connected.\n",
      "HTTP request sent, awaiting response... 200 OK\n",
      "Length: 18063379 (17M) [text/plain]\n",
      "Saving to: ‘data/law_faq.csv’\n",
      "\n",
      "law_faq.csv         100%[===================>]  17.23M  80.1MB/s    in 0.2s    \n",
      "\n",
      "2023-12-08 15:05:41 (80.1 MB/s) - ‘data/law_faq.csv’ saved [18063379/18063379]\n",
      "\n"
     ]
    }
   ],
   "source": [
    "!wget https://raw.githubusercontent.com/zyds/transformers-code/master/02-NLP%20Tasks/13-retrieval_chatbot/law_faq.csv -P data/"
   ]
  },
  {
   "cell_type": "code",
   "execution_count": 24,
   "metadata": {},
   "outputs": [],
   "source": [
    "import os\n",
    "# os.environ[\"WORLD_SIZE\"] = \"1\"\n",
    "os.environ[\"CUDA_VISIBLE_DEVICES\"] = \"0,1\"\n",
    "from transformers import AutoTokenizer, AutoModelForSequenceClassification, Trainer, TrainingArguments\n",
    "from datasets import load_dataset\n",
    "import torch\n",
    "from transformers import DataCollatorWithPadding\n",
    "import evaluate\n",
    "from transformers import pipeline\n",
    "import numpy as np"
   ]
  },
  {
   "cell_type": "markdown",
   "metadata": {},
   "source": [
    "# Data Prepration"
   ]
  },
  {
   "cell_type": "code",
   "execution_count": 8,
   "metadata": {},
   "outputs": [
    {
     "data": {
      "application/vnd.jupyter.widget-view+json": {
       "model_id": "8c36ac04d5d9449c9a26623db9dc873b",
       "version_major": 2,
       "version_minor": 0
      },
      "text/plain": [
       "Downloading data files:   0%|          | 0/1 [00:00<?, ?it/s]"
      ]
     },
     "metadata": {},
     "output_type": "display_data"
    },
    {
     "data": {
      "application/vnd.jupyter.widget-view+json": {
       "model_id": "0a50e0bb0983487591f8df0fa8dbf65a",
       "version_major": 2,
       "version_minor": 0
      },
      "text/plain": [
       "Extracting data files:   0%|          | 0/1 [00:00<?, ?it/s]"
      ]
     },
     "metadata": {},
     "output_type": "display_data"
    },
    {
     "data": {
      "application/vnd.jupyter.widget-view+json": {
       "model_id": "1ee2d489f7c74343bb55789481343bae",
       "version_major": 2,
       "version_minor": 0
      },
      "text/plain": [
       "Generating train split: 0 examples [00:00, ? examples/s]"
      ]
     },
     "metadata": {},
     "output_type": "display_data"
    }
   ],
   "source": [
    "dataset = load_dataset(\"csv\", data_files=\"data/law_faq.csv\", split=\"train\")"
   ]
  },
  {
   "cell_type": "code",
   "execution_count": 10,
   "metadata": {},
   "outputs": [
    {
     "data": {
      "text/plain": [
       "{'title': '在法律中定金与订金的区别订金和定金哪个受',\n",
       " 'reply': '“定金”是指当事人约定由一方向对方给付的，作为债权担保的一定数额的货币，它属于一种法律上的担保方式，目的在于促使债务人履行债务，保障债权人的债权得以实现。签合同时，对定金必需以书面形式进行约定，同时还应约定定金的数额和交付期限。给付定金一方如果不履行债务，无权要求另一方返还定金；接受定金的一方如果不履行债务，需向另一方双倍返还债务。债务人履行债务后，依照约定，定金应抵作价款或者收回。而“订金”目前我国法律没有明确规定，它不具备定金所具有的担保性质，可视为“预付款”，当合同不能履行时，除不可抗力外，应根据双方当事人的过错承担违约责任。'}"
      ]
     },
     "execution_count": 10,
     "metadata": {},
     "output_type": "execute_result"
    }
   ],
   "source": [
    "dataset[0]"
   ]
  },
  {
   "cell_type": "markdown",
   "metadata": {},
   "source": [
    "# load model"
   ]
  },
  {
   "cell_type": "code",
   "execution_count": 14,
   "metadata": {},
   "outputs": [
    {
     "name": "stdout",
     "output_type": "stream",
     "text": [
      "dual_model loaded\n"
     ]
    }
   ],
   "source": [
    "from scripts.DualModel import DualModel\n",
    "dual_model = DualModel.from_pretrained('./dual_model/checkpoint-315/')\n",
    "dual_model = dual_model.to('cuda') \n",
    "dual_model.eval()\n",
    "print('dual_model loaded')"
   ]
  },
  {
   "cell_type": "code",
   "execution_count": 15,
   "metadata": {},
   "outputs": [],
   "source": [
    "tokenizer = AutoTokenizer.from_pretrained(\"hfl/chinese-macbert-base\")"
   ]
  },
  {
   "cell_type": "markdown",
   "metadata": {},
   "source": [
    "# turn data (questions) into embeddings"
   ]
  },
  {
   "cell_type": "code",
   "execution_count": 25,
   "metadata": {},
   "outputs": [
    {
     "data": {
      "application/vnd.jupyter.widget-view+json": {
       "model_id": "962d81eb9d7b4d30824e402b570ac982",
       "version_major": 2,
       "version_minor": 0
      },
      "text/plain": [
       "  0%|          | 0/570 [00:00<?, ?it/s]"
      ]
     },
     "metadata": {},
     "output_type": "display_data"
    }
   ],
   "source": [
    "from tqdm.autonotebook import tqdm\n",
    "questions = dataset['title']\n",
    "vectors = []\n",
    "bs = 32\n",
    "with torch.inference_mode():\n",
    "    for i in tqdm(range(0, len(questions), bs)):\n",
    "        batch_sentences = questions[i:i+bs]\n",
    "        inputs = tokenizer(batch_sentences, max_length=128, padding=True, truncation=True, return_tensors=\"pt\")\n",
    "        inputs = {key: value.to(dual_model.device) for key, value in inputs.items()}\n",
    "        # [1] take the pooled output\n",
    "        outputs = dual_model.bert(**inputs)[1]\n",
    "        vectors.append(outputs.cpu().detach().numpy())\n",
    "vectors = np.concatenate(vectors, axis=0)"
   ]
  },
  {
   "cell_type": "code",
   "execution_count": 26,
   "metadata": {},
   "outputs": [
    {
     "data": {
      "text/plain": [
       "(18213, 768)"
      ]
     },
     "execution_count": 26,
     "metadata": {},
     "output_type": "execute_result"
    }
   ],
   "source": [
    "vectors.shape"
   ]
  },
  {
   "cell_type": "markdown",
   "metadata": {},
   "source": [
    "# create index"
   ]
  },
  {
   "cell_type": "code",
   "execution_count": 32,
   "metadata": {},
   "outputs": [
    {
     "data": {
      "text/plain": [
       "<faiss.swigfaiss_avx2.IndexFlatIP; proxy of <Swig Object of type 'faiss::IndexFlatIP *' at 0x7f818aabff90> >"
      ]
     },
     "execution_count": 32,
     "metadata": {},
     "output_type": "execute_result"
    }
   ],
   "source": [
    "import faiss\n",
    "dim = vectors.shape[1]\n",
    "index = faiss.IndexFlatIP(dim)\n",
    "faiss.normalize_L2(vectors)\n",
    "index.add(vectors)\n",
    "index"
   ]
  },
  {
   "cell_type": "markdown",
   "metadata": {},
   "source": [
    "# question embedding"
   ]
  },
  {
   "cell_type": "code",
   "execution_count": 33,
   "metadata": {},
   "outputs": [
    {
     "data": {
      "text/plain": [
       "(1, 768)"
      ]
     },
     "execution_count": 33,
     "metadata": {},
     "output_type": "execute_result"
    }
   ],
   "source": [
    "question = \"寻衅滋事\"\n",
    "with torch.inference_mode():\n",
    "    inputs = tokenizer(question, max_length=128, padding=True, truncation=True, return_tensors=\"pt\")\n",
    "    inputs = {key: value.to(dual_model.device) for key, value in inputs.items()}\n",
    "    vector = dual_model.bert(**inputs)[1]\n",
    "    q_vector = vector.cpu().detach().numpy()\n",
    "q_vector.shape"
   ]
  },
  {
   "cell_type": "markdown",
   "metadata": {},
   "source": [
    "# Question-Question matching (recall)"
   ]
  },
  {
   "cell_type": "code",
   "execution_count": 34,
   "metadata": {},
   "outputs": [
    {
     "data": {
      "text/plain": [
       "(array([[0.9037887 , 0.8666042 , 0.8658901 , 0.85802627, 0.85431874]],\n",
       "       dtype=float32),\n",
       " array([[  539, 17626,  8508,  7292,  4493]]))"
      ]
     },
     "execution_count": 34,
     "metadata": {},
     "output_type": "execute_result"
    }
   ],
   "source": [
    "faiss.normalize_L2(q_vector)\n",
    "scores, indices = index.search(q_vector, 5)\n",
    "scores, indices"
   ]
  },
  {
   "cell_type": "code",
   "execution_count": 36,
   "metadata": {},
   "outputs": [
    {
     "data": {
      "text/plain": [
       "['涉嫌寻衅滋事', '元*县*管拉幅讨薪', '飞达暴力催收', '两个轻微伤够寻衅滋事', '看一下这个案子是非法拘禁还是绑']"
      ]
     },
     "execution_count": 36,
     "metadata": {},
     "output_type": "execute_result"
    }
   ],
   "source": [
    "matched_questions = [questions[i] for i in indices[0]]\n",
    "matched_questions"
   ]
  },
  {
   "cell_type": "code",
   "execution_count": 38,
   "metadata": {},
   "outputs": [
    {
     "data": {
      "text/plain": [
       "['说明具有寻衅滋事行为，应受到相应的处罚，行为人情形严重或行为恶劣的涉嫌了寻衅滋事罪。寻衅滋事是指行为人结伙斗殴的、追逐、拦截他人的、强拿硬要或者任意损毁、占用公私财物的、其他寻衅滋事的行为。寻衅滋事罪，是指在公共场所无事生非、起哄闹事，造成公共场所秩序严重混乱的，追逐、拦截、辱骂、恐吓他人，强拿硬要或者任意损毁、占用公私财物，破坏社会秩序，情节严重的行为。对于寻衅滋事行为的处罚：1、《中华人*共和国治安管理处罚法》第二十六条规定，有下列行为之一的，处五日以上十日以下拘留，可以并处五百元以下罚款;情节较重的，处十日以上十五日以下拘留，可以并处一千元以下罚款:(一)结伙斗殴的;(二)追逐、拦截他人的;(三)强拿硬要或者任意损毁、占用公私财物的;(四)其他寻衅滋事行为;2、《中华人*共和国刑法》第二百九十三条有下列寻衅滋事行为之一，破坏社会秩序的，处五年以下有期徒刑、拘役或者管制:(一)随意殴打他人，情节恶劣的;(二)追逐、拦截、辱骂、恐吓他人，情节恶劣的;(三)强拿硬要或者任意损毁、占用公私财物，情节严重的;(四)在公共场所起哄闹事。造成公共场所秩序严重混乱的。纠集他人多次实施前款行为，严重破坏社会秩序的，处五年以上十年以下有期徒刑，可以并处罚金。3、最*人*法*和最*人*检**《关于办理寻衅滋事案件的司法解释》为依法惩治寻衅滋事犯罪，维护社会秩序，最*人*法*会*最*人*检**根据《中华人*共和国刑法》的有关规定，就办理寻衅滋事刑事案件适用法律的若干问题司法解释如下:第一条行为人为寻求刺激、发泄情绪、逞强耍横等，无事生非，实施刑法第二百九十三条规定的行为的，应当认定为\"寻衅滋事\"。行为人因日常生活中的偶发矛盾纠纷，借故生非，实施刑法第二百九十三条规定的行为的，应当认定为\"寻衅滋事\"，但矛盾系由被害人故意引发或者被害人对矛盾激化负有主要责任的除外。行为人因婚恋、家庭、邻里、债务等纠纷，实施殴打、辱骂、恐吓他人或者损毁、占用他人财物等行为的，一般不认定为\"寻衅滋事\"，但经有关部门批评制止或者处理处罚后，继续实施前列行为，破坏社会秩序的除外。第二条随意殴打他人，破坏社会秩序，具有下列情形之一的，应当认定为刑法第二百九十三条第一款第一项规定的\"情节恶劣\":1、致一人以上轻伤或者二人以上轻微伤的;2、引起他人精神失常、自杀等严重后果的;3、多次随意殴打他人的;4、持凶器随意殴打他人的;5、随意殴打精神病人、残疾人、流浪乞讨人员、老年人、孕妇、未成年人，造成恶劣社会影响的;6、在公共场所随意殴打他人，造成公共场所秩序严重混乱的;7、其他情节恶劣的情形。第三条追逐、拦截、辱骂、恐吓他人，破坏社会秩序，具有下列情形之一的，应当认定为刑法第二百九十三条第一款第二项规定的\"情节恶劣\":1、多次追逐、拦截、辱骂、恐吓他人，造成恶劣社会影响的;2、持凶器追逐、拦截、辱骂、恐吓他人的;3、追逐、拦截、辱骂、恐吓精神病人、残疾人、流浪乞讨人员、老年人、孕妇、未成年人，造成恶劣社会影响的;4、引起他人精神失常、自杀等严重后果的;5、严重影响他人的工作、生活、生产、经营的;6、其他情节恶劣的情形。第四条强拿硬要或者任意损毁、占用公私财物，破坏社会秩序，具有下列情形之一的，应当认定为刑法第二百九十三条第一款第三项规定的\"情节严重\":1、强拿硬要公私财物价值一千元以上，或者任意损毁、占用公私财物价值二千元以上的;2、多次强拿硬要或者任意损毁、占用公私财物，造成恶劣社会影响的;3、强拿硬要或者任意损毁、占用精神病人、残疾人、流浪乞讨人员、老年人、孕妇、未成年人的财物，造成恶劣社会影响的;4、引起他人精神失常、自杀等严重后果的;5、严重影响他人的工作、生活、生产、经营的;6、其他情节严重的情形。第五条在车站、码头、机场、医*、商场、公园、影剧*、展览会、运动场或者其他公共场所起哄闹事，应当根据公共场所的性质、公共活动的重要程度、公共场所的人数、起哄闹事的时间、公共场所受影响的范围与程度等因素，综合判断是否\"造成公共场所秩序严重混乱\"。第六条纠集他人三次以上实施寻衅滋事犯罪，未经处理的，应当依照刑法第二百九十三条第二款的规定处罚。第七条实施寻衅滋事行为，*时符合寻衅滋事罪和故意杀人罪、故意伤害罪、故意毁坏财物罪、敲诈勒索罪、抢夺罪、抢劫罪等罪的构成要件的，依照处罚较重的犯罪定罪处罚。第八条行为人认罪、悔罪，积极赔偿被害人损失或者取得被害人谅解的，可以从轻处罚;犯罪情节轻微的，可以不起诉或者免予刑事处罚。',\n",
       " '拖欠工资，不发工资、克扣工资可以打12###电话投诉，该电话是人力资源和社会保障局的电话。也可以到劳*局****投诉。由于公司未能按时发放劳*报酬，当事人可以申请解除劳*合同和劳*关系，并要求经济补偿。当事人可以向当地劳***行*部*进行举报，由劳*****责令用人单位支付工资，劳*****协调不成的，劳*者可以申请劳*仲裁。《劳*合同法》第八十五条：用人单位有下列情形之一的，由劳*行*部*责令限期支付劳*报酬、加班费或者经济补偿；劳*报酬低于当地最低工资标准的，应当支付其差额部分；逾期不支付的，责令用人单位按应付金额百分之五十以上百分之一百以下的标准向劳*者加付赔偿金：（一）未按照劳*合同的约定或者国家规定及时足额支付劳*者劳*报酬的；（二）低于当地最低工资标准支付劳*者工资的；（三）安排加班不支付加班费的；（四）解除或者终止劳*合同，未依照本法规定向劳*者支付经济补偿的。',\n",
       " '是否合法，要看在什么单位从事债务催收工作、以及采取什么方式催收债务。如果是在依法成立的单位从事债务催收工作、并且采取合法的方式催收债务，那么就是合法工作、并且通常情况下是安全的。如果在没有营业执照、或者超越经营范围的企业从事债务催收工作、并且采取法律不允许的方式催收债务（例如限制债务人的人身自由、采取恐吓、殴打等方式），那就属于非法工作。采取非法方式催收债务，容易触犯法律，相应的，这种工作也不安全。非法催债，容易触犯刑法规定的故意伤害罪、或非法拘禁罪。《中华人民共和国刑法》相关规定：第二百三十四条故意伤害他人身体的，处三年以下有期徒刑、拘役或者管制。犯前款罪，致人重伤的，处三年以上十年以下有期徒刑;致人死亡或者以特别残忍手段致人重伤造成严重残疾的，处十年以上有期徒刑、无期徒刑或者死刑。本法另有规定的，依照规定。第二百三十八条非法拘禁他人或者以其他方法非法剥夺他人人身自由的，处三年以下有期徒刑、拘役、管制或者剥夺政治权利。具有殴打、侮辱情节的，从重处罚。犯前款罪，致人重伤的，处三年以上十年以下有期徒刑；致人死亡的，处十年以上有期徒刑。使用暴力致人伤残、死亡的，依照本法第二百三十四条、第二百三十二条的规定定罪处罚。为索取债务非法扣押、拘禁他人的，依照前两款的规定处罚。国家机关工作人员利用职权犯前三款罪的，依照前三款的规定从重处罚。',\n",
       " '涉嫌寻衅滋事罪，要看有没有以下行为：随意殴打他人，情节恶劣的;追逐、拦截、辱骂、恐吓他人，情节恶劣的;强拿硬要或者任意损毁、占用公私财物，情节严重的;在公共场所起哄闹事，造成公共场所秩序严重混乱的。法律规定：《中华人民共和国刑法》第二百九十三条【寻衅滋事罪】有下列寻衅滋事行为之一，破坏社会秩序的，处五年以下有期徒刑、拘役或者管制：(一)随意殴打他人，情节恶劣的;(二)追逐、拦截、辱骂、恐吓他人，情节恶劣的;(三)强拿硬要或者任意损毁、占用公私财物，情节严重的;(四)在公共场所起哄闹事，造成公共场所秩序严重混乱的。纠集他人多次实施前款行为，严重破坏社会秩序的，处五年以上十年以下有期徒刑，可以并处罚金。',\n",
       " '绑架罪的界限非法拘禁罪是通过限制人身自由的方式把人限制在一个固定的区域内使其无法自由行动；绑架罪则是以非法占有他人财物为目的、采用暴力限制他人人身自由，以索要钱财；也可表现为绑架他人作为人质，以满足个人提出的一些不法条件（不一定是图财）。非法拘禁和绑架罪的主体都是一般主体；非法拘禁主观是以限制他人人身自由为目的，绑架主观是以通过限制他人人身自由以获取钱财或达到其他目的；非法拘禁罪客观是限制人身自由，绑架是限制人身自由和获得钱财；非法拘禁侵犯的客体是公民的人身权利；绑架罪侵犯的客体是公民的人身权利和财产权利。']"
      ]
     },
     "execution_count": 38,
     "metadata": {},
     "output_type": "execute_result"
    }
   ],
   "source": [
    "matched_answers = [dataset['reply'][i] for i in indices[0]]\n",
    "matched_answers"
   ]
  },
  {
   "cell_type": "code",
   "execution_count": null,
   "metadata": {},
   "outputs": [],
   "source": []
  }
 ],
 "metadata": {
  "kernelspec": {
   "display_name": "IMP",
   "language": "python",
   "name": "python3"
  },
  "language_info": {
   "codemirror_mode": {
    "name": "ipython",
    "version": 3
   },
   "file_extension": ".py",
   "mimetype": "text/x-python",
   "name": "python",
   "nbconvert_exporter": "python",
   "pygments_lexer": "ipython3",
   "version": "3.10.13"
  }
 },
 "nbformat": 4,
 "nbformat_minor": 2
}
